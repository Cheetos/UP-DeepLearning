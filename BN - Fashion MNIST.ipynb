{
 "cells": [
  {
   "cell_type": "markdown",
   "id": "db8d1c8b",
   "metadata": {},
   "source": [
    "## Download the Data\n",
    "\n",
    "For this example we will work with the \"Fashin MNIST\" dataset, composed of thousands of $28 \\times 28$ images."
   ]
  },
  {
   "cell_type": "code",
   "execution_count": 2,
   "id": "d53063b6",
   "metadata": {},
   "outputs": [],
   "source": [
    "import tensorflow as tf\n",
    "from tensorflow import keras\n",
    "\n",
    "fashion_mnist = keras.datasets.fashion_mnist\n",
    "(X_train_full, y_train_full), (X_test, y_test) = fashion_mnist.load_data()"
   ]
  },
  {
   "cell_type": "code",
   "execution_count": 3,
   "id": "2aac2bd1",
   "metadata": {},
   "outputs": [
    {
     "data": {
      "text/plain": [
       "(60000, 28, 28)"
      ]
     },
     "execution_count": 3,
     "metadata": {},
     "output_type": "execute_result"
    }
   ],
   "source": [
    "X_train_full.shape"
   ]
  },
  {
   "cell_type": "code",
   "execution_count": 4,
   "id": "3baa0642",
   "metadata": {},
   "outputs": [
    {
     "data": {
      "text/plain": [
       "(10000, 28, 28)"
      ]
     },
     "execution_count": 4,
     "metadata": {},
     "output_type": "execute_result"
    }
   ],
   "source": [
    "X_test.shape"
   ]
  },
  {
   "cell_type": "markdown",
   "id": "5f86f2ea",
   "metadata": {},
   "source": [
    "Let's visualize the first image of our training set, so we have a better idea of how the data looks like. "
   ]
  },
  {
   "cell_type": "code",
   "execution_count": 5,
   "id": "4f0c3484",
   "metadata": {},
   "outputs": [
    {
     "data": {
      "image/png": "[encoded data removed]",
      "text/plain": [
       "<Figure size 640x480 with 1 Axes>"
      ]
     },
     "metadata": {},
     "output_type": "display_data"
    }
   ],
   "source": [
    "import matplotlib as mlp\n",
    "import matplotlib.pyplot as plt\n",
    "\n",
    "sample_image = X_train_full[0]\n",
    "\n",
    "plt.imshow(sample_image, cmap=\"binary\")\n",
    "plt.axis(\"off\")\n",
    "plt.show()"
   ]
  },
  {
   "cell_type": "markdown",
   "id": "45f80502",
   "metadata": {},
   "source": [
    "## Define Trainining and Validation Sets\n",
    "\n",
    "Now let's scale the data by dividing by the maximum value (255), so all the values are in the $[0, 1]$ range.\n",
    "\n",
    "We will create a validation set from our training set, composed of the first 5000 thousand images, the rest will be used for training."
   ]
  },
  {
   "cell_type": "code",
   "execution_count": 6,
   "id": "537cb86a",
   "metadata": {},
   "outputs": [],
   "source": [
    "X_valid, X_train = X_train_full[:5000] / 255.0, X_train_full[5000:] / 255.0\n",
    "y_valid, y_train = y_train_full[:5000], y_train_full[5000:]\n",
    "X_test = X_test / 255.0"
   ]
  },
  {
   "cell_type": "code",
   "execution_count": 7,
   "id": "c41020a1",
   "metadata": {},
   "outputs": [
    {
     "name": "stdout",
     "output_type": "stream",
     "text": [
      "(55000, 28, 28)\n",
      "(5000, 28, 28)\n"
     ]
    }
   ],
   "source": [
    "print(X_train.shape)\n",
    "print(X_valid.shape)"
   ]
  },
  {
   "cell_type": "markdown",
   "id": "dca45535",
   "metadata": {},
   "source": [
    "Let's define the names of our classes/categories."
   ]
  },
  {
   "cell_type": "code",
   "execution_count": 8,
   "id": "e6ce9fcb",
   "metadata": {},
   "outputs": [],
   "source": [
    "class_names = [\"T-shirt/top\", \"Trouser\", \"Pullover\", \"Dress\", \n",
    "               \"Coat\", \"Sandal\", \"Shirt\", \"Sneaker\", \"Bag\", \"Ankle boot\"]"
   ]
  },
  {
   "cell_type": "code",
   "execution_count": 9,
   "id": "569aafcd",
   "metadata": {},
   "outputs": [
    {
     "data": {
      "text/plain": [
       "'Ankle boot'"
      ]
     },
     "execution_count": 9,
     "metadata": {},
     "output_type": "execute_result"
    }
   ],
   "source": [
    "class_names[y_train_full[0]]"
   ]
  },
  {
   "cell_type": "markdown",
   "id": "f4eb175b",
   "metadata": {},
   "source": [
    "## Create the  Model\n",
    "\n",
    "The input layer has 785 units, which represents the 28 x 28 pixels in the image. Let's define two hidden layers, with 300 and 100 neurons, respecitively. The output layer has 10 units, each representing a class; this output layer uses the `softmax`function to use a multinomial approach to handle multiple classes."
   ]
  },
  {
   "cell_type": "code",
   "execution_count": 10,
   "id": "610a592e",
   "metadata": {},
   "outputs": [
    {
     "name": "stdout",
     "output_type": "stream",
     "text": [
      "Model: \"sequential\"\n",
      "_________________________________________________________________\n",
      " Layer (type)                Output Shape              Param #   \n",
      "=================================================================\n",
      " input (Flatten)             (None, 784)               0         \n",
      "                                                                 \n",
      " batch_normalization (BatchN  (None, 784)              3136      \n",
      " ormalization)                                                   \n",
      "                                                                 \n",
      " hidden1 (Dense)             (None, 300)               235500    \n",
      "                                                                 \n",
      " batch_normalization_1 (Batc  (None, 300)              1200      \n",
      " hNormalization)                                                 \n",
      "                                                                 \n",
      " hidden2 (Dense)             (None, 100)               30100     \n",
      "                                                                 \n",
      " batch_normalization_2 (Batc  (None, 100)              400       \n",
      " hNormalization)                                                 \n",
      "                                                                 \n",
      " output (Dense)              (None, 10)                1010      \n",
      "                                                                 \n",
      "=================================================================\n",
      "Total params: 271,346\n",
      "Trainable params: 268,978\n",
      "Non-trainable params: 2,368\n",
      "_________________________________________________________________\n"
     ]
    }
   ],
   "source": [
    "model = keras.models.Sequential([\n",
    "    keras.layers.Flatten(input_shape=[28, 28], name=\"input\"),\n",
    "    keras.layers.BatchNormalization(),\n",
    "    keras.layers.Dense(300, activation=\"elu\", kernel_initializer=\"he_normal\", name=\"hidden1\"),\n",
    "    keras.layers.BatchNormalization(),\n",
    "    keras.layers.Dense(100, activation=\"elu\", kernel_initializer=\"he_normal\", name=\"hidden2\"),\n",
    "    keras.layers.BatchNormalization(),\n",
    "    keras.layers.Dense(10, activation=\"softmax\", name=\"output\")\n",
    "])\n",
    "model.summary()\n"
   ]
  },
  {
   "cell_type": "markdown",
   "id": "2666836d",
   "metadata": {},
   "source": [
    "We can get an array of the layers in our network with the `layers` propery."
   ]
  },
  {
   "cell_type": "code",
   "execution_count": 11,
   "id": "2ef9f71b",
   "metadata": {},
   "outputs": [
    {
     "data": {
      "text/plain": [
       "[<keras.layers.reshaping.flatten.Flatten at 0x29ce6a0a0>,\n",
       " <keras.layers.normalization.batch_normalization.BatchNormalization at 0x111e1d220>,\n",
       " <keras.layers.core.dense.Dense at 0x29cd743d0>,\n",
       " <keras.layers.normalization.batch_normalization.BatchNormalization at 0x111f66be0>,\n",
       " <keras.layers.core.dense.Dense at 0x29ce6a820>,\n",
       " <keras.layers.normalization.batch_normalization.BatchNormalization at 0x29ce6a610>,\n",
       " <keras.layers.core.dense.Dense at 0x29ce6acd0>]"
      ]
     },
     "execution_count": 11,
     "metadata": {},
     "output_type": "execute_result"
    }
   ],
   "source": [
    "model.layers"
   ]
  },
  {
   "cell_type": "markdown",
   "id": "79f61f7e",
   "metadata": {},
   "source": [
    "## Compile the Model\n",
    "\n",
    "In this step we specify the loss function, optimizers, and metrics for our network. For this example, we are using the categorical crossentroy loss function, since we are dealing with a multiclass categorical target variable. The `sgd` refers to the \"Stochastic Gradiend Descent\" algorithm, and we will use the accuracy for measuring the performance of our network. "
   ]
  },
  {
   "cell_type": "code",
   "execution_count": 15,
   "id": "1ecb200e",
   "metadata": {},
   "outputs": [],
   "source": [
    "model.compile(loss=\"sparse_categorical_crossentropy\",\n",
    "              optimizer=\"sgd\",\n",
    "              metrics=[\"accuracy\"])"
   ]
  },
  {
   "cell_type": "markdown",
   "id": "b877884d",
   "metadata": {},
   "source": [
    "## Adding Callbacks\n",
    "\n",
    "Callback are helpful to execute periodic specific tasks, for example, at the end of one epoch. In this case, we are adding an \"Early Stopping\" callback, indicating that if the validation score doesn't improve in 10 epochs, the training will stop and we will get the best solution computed."
   ]
  },
  {
   "cell_type": "code",
   "execution_count": 16,
   "id": "a6ab0e72",
   "metadata": {},
   "outputs": [],
   "source": [
    "early_stopping_cb = keras.callbacks.EarlyStopping(patience=10, restore_best_weights=True)"
   ]
  },
  {
   "cell_type": "markdown",
   "id": "6c739548",
   "metadata": {},
   "source": [
    "You can also define your own callbacks, here we are defining a callback that prints the ration between the validation score and the training score."
   ]
  },
  {
   "cell_type": "code",
   "execution_count": 17,
   "id": "d5ba10e0",
   "metadata": {},
   "outputs": [],
   "source": [
    "class MyCallback(keras.callbacks.Callback):\n",
    "    def on_epoch_end(self, epoch, logs):\n",
    "        print(f\"\\nval/train: {logs['val_loss'] / logs['loss']}\")"
   ]
  },
  {
   "cell_type": "markdown",
   "id": "e6cef0ff",
   "metadata": {},
   "source": [
    "## Training and Evaluating\n",
    "\n",
    "To train the network we need to specify the training and validation sets, as well as the number of epochs, callbacks ,and all the necessary parameters."
   ]
  },
  {
   "cell_type": "code",
   "execution_count": 18,
   "id": "9409a00b",
   "metadata": {},
   "outputs": [
    {
     "name": "stdout",
     "output_type": "stream",
     "text": [
      "Epoch 1/100\n"
     ]
    },
    {
     "name": "stderr",
     "output_type": "stream",
     "text": [
      "2023-02-08 10:57:34.179062: W tensorflow/core/platform/profile_utils/cpu_utils.cc:128] Failed to get CPU frequency: 0 Hz\n"
     ]
    },
    {
     "name": "stdout",
     "output_type": "stream",
     "text": [
      "1699/1719 [============================>.] - ETA: 0s - loss: 0.5505 - accuracy: 0.8076\n",
      "val/train: 0.7388665397091518\n",
      "1719/1719 [==============================] - 3s 2ms/step - loss: 0.5495 - accuracy: 0.8078 - val_loss: 0.4060 - val_accuracy: 0.8560\n",
      "Epoch 2/100\n",
      "1694/1719 [============================>.] - ETA: 0s - loss: 0.4203 - accuracy: 0.8496\n",
      "val/train: 0.891484853487699\n",
      "1719/1719 [==============================] - 3s 2ms/step - loss: 0.4204 - accuracy: 0.8494 - val_loss: 0.3748 - val_accuracy: 0.8664\n",
      "Epoch 3/100\n",
      "1703/1719 [============================>.] - ETA: 0s - loss: 0.3862 - accuracy: 0.8619\n",
      "val/train: 0.9323396227084784\n",
      "1719/1719 [==============================] - 3s 2ms/step - loss: 0.3862 - accuracy: 0.8619 - val_loss: 0.3601 - val_accuracy: 0.8700\n",
      "Epoch 4/100\n",
      "1699/1719 [============================>.] - ETA: 0s - loss: 0.3622 - accuracy: 0.8685\n",
      "val/train: 0.9582643799228292\n",
      "1719/1719 [==============================] - 3s 2ms/step - loss: 0.3622 - accuracy: 0.8686 - val_loss: 0.3471 - val_accuracy: 0.8784\n",
      "Epoch 5/100\n",
      "1689/1719 [============================>.] - ETA: 0s - loss: 0.3454 - accuracy: 0.8750\n",
      "val/train: 0.9937288610512216\n",
      "1719/1719 [==============================] - 3s 2ms/step - loss: 0.3461 - accuracy: 0.8747 - val_loss: 0.3439 - val_accuracy: 0.8772\n",
      "Epoch 6/100\n",
      "1716/1719 [============================>.] - ETA: 0s - loss: 0.3291 - accuracy: 0.8804\n",
      "val/train: 1.0043521493815561\n",
      "1719/1719 [==============================] - 3s 2ms/step - loss: 0.3290 - accuracy: 0.8803 - val_loss: 0.3305 - val_accuracy: 0.8852\n",
      "Epoch 7/100\n",
      "1700/1719 [============================>.] - ETA: 0s - loss: 0.3156 - accuracy: 0.8862\n",
      "val/train: 1.0385042475613757\n",
      "1719/1719 [==============================] - 3s 2ms/step - loss: 0.3162 - accuracy: 0.8860 - val_loss: 0.3283 - val_accuracy: 0.8824\n",
      "Epoch 8/100\n",
      "1698/1719 [============================>.] - ETA: 0s - loss: 0.3047 - accuracy: 0.8896\n",
      "val/train: 1.052191935876372\n",
      "1719/1719 [==============================] - 3s 2ms/step - loss: 0.3056 - accuracy: 0.8895 - val_loss: 0.3215 - val_accuracy: 0.8828\n",
      "Epoch 9/100\n",
      "1701/1719 [============================>.] - ETA: 0s - loss: 0.2947 - accuracy: 0.8931\n",
      "val/train: 1.0579174494818973\n",
      "1719/1719 [==============================] - 3s 2ms/step - loss: 0.2950 - accuracy: 0.8929 - val_loss: 0.3121 - val_accuracy: 0.8878\n",
      "Epoch 10/100\n",
      "1695/1719 [============================>.] - ETA: 0s - loss: 0.2868 - accuracy: 0.8966\n",
      "val/train: 1.0885251296096712\n",
      "1719/1719 [==============================] - 3s 2ms/step - loss: 0.2869 - accuracy: 0.8966 - val_loss: 0.3123 - val_accuracy: 0.8888\n",
      "Epoch 11/100\n",
      "1700/1719 [============================>.] - ETA: 0s - loss: 0.2773 - accuracy: 0.8994\n",
      "val/train: 1.1271899997874177\n",
      "1719/1719 [==============================] - 3s 2ms/step - loss: 0.2776 - accuracy: 0.8993 - val_loss: 0.3129 - val_accuracy: 0.8822\n",
      "Epoch 12/100\n",
      "1706/1719 [============================>.] - ETA: 0s - loss: 0.2718 - accuracy: 0.9013\n",
      "val/train: 1.1500558671858019\n",
      "1719/1719 [==============================] - 3s 2ms/step - loss: 0.2713 - accuracy: 0.9014 - val_loss: 0.3121 - val_accuracy: 0.8876\n",
      "Epoch 13/100\n",
      "1700/1719 [============================>.] - ETA: 0s - loss: 0.2634 - accuracy: 0.9038\n",
      "val/train: 1.1907330960048446\n",
      "1719/1719 [==============================] - 3s 2ms/step - loss: 0.2633 - accuracy: 0.9037 - val_loss: 0.3135 - val_accuracy: 0.8876\n",
      "Epoch 14/100\n",
      "1717/1719 [============================>.] - ETA: 0s - loss: 0.2576 - accuracy: 0.9064\n",
      "val/train: 1.2095376466476626\n",
      "1719/1719 [==============================] - 3s 2ms/step - loss: 0.2576 - accuracy: 0.9064 - val_loss: 0.3116 - val_accuracy: 0.8876\n",
      "Epoch 15/100\n",
      "1717/1719 [============================>.] - ETA: 0s - loss: 0.2499 - accuracy: 0.9096\n",
      "val/train: 1.2235643735496204\n",
      "1719/1719 [==============================] - 3s 2ms/step - loss: 0.2498 - accuracy: 0.9096 - val_loss: 0.3057 - val_accuracy: 0.8890\n",
      "Epoch 16/100\n",
      "1718/1719 [============================>.] - ETA: 0s - loss: 0.2426 - accuracy: 0.9121\n",
      "val/train: 1.308127112738154\n",
      "1719/1719 [==============================] - 3s 2ms/step - loss: 0.2428 - accuracy: 0.9120 - val_loss: 0.3175 - val_accuracy: 0.8842\n",
      "Epoch 17/100\n",
      "1703/1719 [============================>.] - ETA: 0s - loss: 0.2360 - accuracy: 0.9141\n",
      "val/train: 1.2998447595407923\n",
      "1719/1719 [==============================] - 3s 2ms/step - loss: 0.2360 - accuracy: 0.9142 - val_loss: 0.3068 - val_accuracy: 0.8924\n",
      "Epoch 18/100\n",
      "1689/1719 [============================>.] - ETA: 0s - loss: 0.2311 - accuracy: 0.9151\n",
      "val/train: 1.3302047001249095\n",
      "1719/1719 [==============================] - 3s 2ms/step - loss: 0.2322 - accuracy: 0.9147 - val_loss: 0.3089 - val_accuracy: 0.8886\n",
      "Epoch 19/100\n",
      "1707/1719 [============================>.] - ETA: 0s - loss: 0.2256 - accuracy: 0.9180\n",
      "val/train: 1.3470039116897936\n",
      "1719/1719 [==============================] - 3s 2ms/step - loss: 0.2258 - accuracy: 0.9179 - val_loss: 0.3042 - val_accuracy: 0.8898\n",
      "Epoch 20/100\n",
      "1716/1719 [============================>.] - ETA: 0s - loss: 0.2214 - accuracy: 0.9190\n",
      "val/train: 1.3782948107494606\n",
      "1719/1719 [==============================] - 3s 2ms/step - loss: 0.2213 - accuracy: 0.9191 - val_loss: 0.3050 - val_accuracy: 0.8952\n",
      "Epoch 21/100\n",
      "1713/1719 [============================>.] - ETA: 0s - loss: 0.2168 - accuracy: 0.9206\n",
      "val/train: 1.497932067300468\n",
      "1719/1719 [==============================] - 3s 2ms/step - loss: 0.2171 - accuracy: 0.9206 - val_loss: 0.3252 - val_accuracy: 0.8876\n",
      "Epoch 22/100\n",
      "1695/1719 [============================>.] - ETA: 0s - loss: 0.2112 - accuracy: 0.9217\n",
      "val/train: 1.4610758131184678\n",
      "1719/1719 [==============================] - 3s 2ms/step - loss: 0.2109 - accuracy: 0.9219 - val_loss: 0.3082 - val_accuracy: 0.8926\n",
      "Epoch 23/100\n",
      "1697/1719 [============================>.] - ETA: 0s - loss: 0.2073 - accuracy: 0.9237\n",
      "val/train: 1.487152237626144\n",
      "1719/1719 [==============================] - 3s 2ms/step - loss: 0.2077 - accuracy: 0.9236 - val_loss: 0.3088 - val_accuracy: 0.8948\n",
      "Epoch 24/100\n",
      "1712/1719 [============================>.] - ETA: 0s - loss: 0.2028 - accuracy: 0.9261\n",
      "val/train: 1.5401118543812817\n",
      "1719/1719 [==============================] - 3s 2ms/step - loss: 0.2027 - accuracy: 0.9261 - val_loss: 0.3122 - val_accuracy: 0.8880\n",
      "Epoch 25/100\n",
      "1715/1719 [============================>.] - ETA: 0s - loss: 0.1968 - accuracy: 0.9275\n",
      "val/train: 1.616895665805583\n",
      "1719/1719 [==============================] - 3s 2ms/step - loss: 0.1968 - accuracy: 0.9275 - val_loss: 0.3181 - val_accuracy: 0.8904\n",
      "Epoch 26/100\n",
      "1718/1719 [============================>.] - ETA: 0s - loss: 0.1950 - accuracy: 0.9290\n",
      "val/train: 1.6260115204925518\n",
      "1719/1719 [==============================] - 3s 2ms/step - loss: 0.1950 - accuracy: 0.9291 - val_loss: 0.3170 - val_accuracy: 0.8918\n",
      "Epoch 27/100\n",
      "1719/1719 [==============================] - ETA: 0s - loss: 0.1908 - accuracy: 0.9299\n",
      "val/train: 1.6692769919829795\n",
      "1719/1719 [==============================] - 3s 2ms/step - loss: 0.1908 - accuracy: 0.9299 - val_loss: 0.3185 - val_accuracy: 0.8872\n",
      "Epoch 28/100\n",
      "1700/1719 [============================>.] - ETA: 0s - loss: 0.1842 - accuracy: 0.9325\n",
      "val/train: 1.7650861687342316\n",
      "1719/1719 [==============================] - 3s 2ms/step - loss: 0.1843 - accuracy: 0.9324 - val_loss: 0.3253 - val_accuracy: 0.8896\n",
      "Epoch 29/100\n",
      "1700/1719 [============================>.] - ETA: 0s - loss: 0.1829 - accuracy: 0.9340\n",
      "val/train: 1.7285569763071273\n",
      "1719/1719 [==============================] - 3s 2ms/step - loss: 0.1830 - accuracy: 0.9339 - val_loss: 0.3163 - val_accuracy: 0.8930\n"
     ]
    }
   ],
   "source": [
    "history = model.fit(X_train, \n",
    "                    y_train, \n",
    "                    epochs=100, \n",
    "                    validation_data=(X_valid, y_valid),\n",
    "                    callbacks=[early_stopping_cb, MyCallback()]\n",
    "                   )"
   ]
  },
  {
   "cell_type": "markdown",
   "id": "b537a308",
   "metadata": {},
   "source": [
    "With the `epoch` property we get a list with all the epochs that were completed. "
   ]
  },
  {
   "cell_type": "code",
   "execution_count": 19,
   "id": "ed64ae54",
   "metadata": {},
   "outputs": [
    {
     "data": {
      "text/plain": [
       "29"
      ]
     },
     "execution_count": 19,
     "metadata": {},
     "output_type": "execute_result"
    }
   ],
   "source": [
    "len(history.epoch)"
   ]
  },
  {
   "cell_type": "markdown",
   "id": "4472128b",
   "metadata": {},
   "source": [
    "The `steps` parameter refers to the number number of steps to complete an epoch, `batch_size * steps = n`. By default the batch size is 32."
   ]
  },
  {
   "cell_type": "code",
   "execution_count": 20,
   "id": "acb39dbf",
   "metadata": {},
   "outputs": [
    {
     "data": {
      "text/plain": [
       "{'verbose': 1, 'epochs': 100, 'steps': 1719}"
      ]
     },
     "execution_count": 20,
     "metadata": {},
     "output_type": "execute_result"
    }
   ],
   "source": [
    "history.params"
   ]
  },
  {
   "cell_type": "markdown",
   "id": "9b7dd3ba",
   "metadata": {},
   "source": [
    "We can use the `history` property to obtain the score and loss of the training and validation sets."
   ]
  },
  {
   "cell_type": "code",
   "execution_count": 21,
   "id": "c9672ea3",
   "metadata": {},
   "outputs": [
    {
     "data": {
      "text/plain": [
       "<function matplotlib.pyplot.show(close=None, block=None)>"
      ]
     },
     "execution_count": 21,
     "metadata": {},
     "output_type": "execute_result"
    },
    {
     "data": {
      "image/png": "[encoded data removed]",
      "text/plain": [
       "<Figure size 800x500 with 1 Axes>"
      ]
     },
     "metadata": {},
     "output_type": "display_data"
    }
   ],
   "source": [
    "import pandas as pd\n",
    "\n",
    "pd.DataFrame(history.history).plot(figsize=(8, 5))\n",
    "plt.grid(True)\n",
    "plt.gca().set_ylim(0, 1)\n",
    "plt.show"
   ]
  },
  {
   "cell_type": "markdown",
   "id": "6edb15f7",
   "metadata": {},
   "source": [
    "We use the `evaluate` method to measure the performance of a given data set. Below we display the loss and accuracy of the test set.\n",
    "\n",
    "Both, the accuracy and the loss are similar to the validation set, which is a sign that we aren't overfitting the training data."
   ]
  },
  {
   "cell_type": "code",
   "execution_count": 22,
   "id": "8f8ad911",
   "metadata": {},
   "outputs": [
    {
     "name": "stdout",
     "output_type": "stream",
     "text": [
      "313/313 [==============================] - 0s 657us/step - loss: 0.3379 - accuracy: 0.8833\n"
     ]
    },
    {
     "data": {
      "text/plain": [
       "[0.337947279214859, 0.8833000063896179]"
      ]
     },
     "execution_count": 22,
     "metadata": {},
     "output_type": "execute_result"
    }
   ],
   "source": [
    "model.evaluate(X_test, y_test)"
   ]
  },
  {
   "cell_type": "markdown",
   "id": "462e5156",
   "metadata": {},
   "source": [
    "The `predict` method returns the output of a forward step through the network with the given input. For this example, since we are using the `softmax` activation function; we get the probabilities to belong to each class."
   ]
  },
  {
   "cell_type": "code",
   "execution_count": 23,
   "id": "40eb816e",
   "metadata": {},
   "outputs": [
    {
     "name": "stdout",
     "output_type": "stream",
     "text": [
      "1/1 [==============================] - 0s 71ms/step\n"
     ]
    },
    {
     "data": {
      "text/plain": [
       "array([[0.  , 0.  , 0.  , 0.  , 0.  , 0.  , 0.  , 0.01, 0.  , 0.99],\n",
       "       [0.  , 0.  , 1.  , 0.  , 0.  , 0.  , 0.  , 0.  , 0.  , 0.  ],\n",
       "       [0.  , 1.  , 0.  , 0.  , 0.  , 0.  , 0.  , 0.  , 0.  , 0.  ],\n",
       "       [0.  , 1.  , 0.  , 0.  , 0.  , 0.  , 0.  , 0.  , 0.  , 0.  ],\n",
       "       [0.1 , 0.  , 0.  , 0.  , 0.01, 0.  , 0.89, 0.  , 0.  , 0.  ]],\n",
       "      dtype=float32)"
      ]
     },
     "execution_count": 23,
     "metadata": {},
     "output_type": "execute_result"
    }
   ],
   "source": [
    "X_new = X_test[:5]\n",
    "y_proba = model.predict(X_new)\n",
    "y_proba.round(2)"
   ]
  },
  {
   "cell_type": "markdown",
   "id": "88537c84",
   "metadata": {},
   "source": [
    "Getting the class with the highest probability, we obtain the following."
   ]
  },
  {
   "cell_type": "code",
   "execution_count": 24,
   "id": "578a0297",
   "metadata": {},
   "outputs": [
    {
     "data": {
      "text/plain": [
       "array([9, 2, 1, 1, 6])"
      ]
     },
     "execution_count": 24,
     "metadata": {},
     "output_type": "execute_result"
    }
   ],
   "source": [
    "import numpy as np\n",
    "\n",
    "y_pred =np.argmax(y_proba, axis=1)\n",
    "y_pred"
   ]
  },
  {
   "cell_type": "code",
   "execution_count": 25,
   "id": "82cc5ba1",
   "metadata": {},
   "outputs": [
    {
     "data": {
      "text/plain": [
       "array(['Ankle boot', 'Pullover', 'Trouser', 'Trouser', 'Shirt'],\n",
       "      dtype='<U11')"
      ]
     },
     "execution_count": 25,
     "metadata": {},
     "output_type": "execute_result"
    }
   ],
   "source": [
    "np.array(class_names)[y_pred]"
   ]
  },
  {
   "cell_type": "markdown",
   "id": "2721defa",
   "metadata": {},
   "source": [
    "The results are identical to the actual values. "
   ]
  },
  {
   "cell_type": "code",
   "execution_count": 26,
   "id": "3920eab4",
   "metadata": {},
   "outputs": [
    {
     "data": {
      "text/plain": [
       "array([9, 2, 1, 1, 6], dtype=uint8)"
      ]
     },
     "execution_count": 26,
     "metadata": {},
     "output_type": "execute_result"
    }
   ],
   "source": [
    "y_new = y_test[:5]\n",
    "y_new"
   ]
  },
  {
   "cell_type": "code",
   "execution_count": null,
   "id": "f81bc80f",
   "metadata": {},
   "outputs": [],
   "source": []
  },
  {
   "cell_type": "code",
   "execution_count": null,
   "id": "9b29c339",
   "metadata": {},
   "outputs": [],
   "source": []
  }
 ],
 "metadata": {
  "kernelspec": {
   "display_name": "Python 3 (ipykernel)",
   "language": "python",
   "name": "python3"
  },
  "language_info": {
   "codemirror_mode": {
    "name": "ipython",
    "version": 3
   },
   "file_extension": ".py",
   "mimetype": "text/x-python",
   "name": "python",
   "nbconvert_exporter": "python",
   "pygments_lexer": "ipython3",
   "version": "3.8.15"
  }
 },
 "nbformat": 4,
 "nbformat_minor": 5
}
