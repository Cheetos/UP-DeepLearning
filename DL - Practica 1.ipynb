{
 "cells": [
  {
   "cell_type": "code",
   "execution_count": 159,
   "id": "8cf3be7d",
   "metadata": {},
   "outputs": [
    {
     "data": {
      "text/plain": [
       "'2.10.0'"
      ]
     },
     "execution_count": 159,
     "metadata": {},
     "output_type": "execute_result"
    }
   ],
   "source": [
    "import tensorflow as tf\n",
    "from tensorflow import keras\n",
    "tf.__version__"
   ]
  },
  {
   "cell_type": "code",
   "execution_count": 160,
   "id": "4c1ec241",
   "metadata": {},
   "outputs": [
    {
     "data": {
      "text/plain": [
       "'2.10.0'"
      ]
     },
     "execution_count": 160,
     "metadata": {},
     "output_type": "execute_result"
    }
   ],
   "source": [
    "keras.__version__"
   ]
  },
  {
   "cell_type": "markdown",
   "id": "db8d1c8b",
   "metadata": {},
   "source": [
    "## Download the Data\n",
    "\n",
    "For this example we will work with the \"Fashin MNIST\" dataset, composed of thousands of $28 \\times 28$ images."
   ]
  },
  {
   "cell_type": "code",
   "execution_count": 161,
   "id": "d53063b6",
   "metadata": {},
   "outputs": [],
   "source": [
    "fashion_mnist = keras.datasets.fashion_mnist\n",
    "(X_train_full, y_train_full), (X_test, y_test) = fashion_mnist.load_data()"
   ]
  },
  {
   "cell_type": "code",
   "execution_count": 162,
   "id": "2aac2bd1",
   "metadata": {},
   "outputs": [
    {
     "data": {
      "text/plain": [
       "(60000, 28, 28)"
      ]
     },
     "execution_count": 162,
     "metadata": {},
     "output_type": "execute_result"
    }
   ],
   "source": [
    "X_train_full.shape"
   ]
  },
  {
   "cell_type": "code",
   "execution_count": 163,
   "id": "3baa0642",
   "metadata": {},
   "outputs": [
    {
     "data": {
      "text/plain": [
       "(10000, 28, 28)"
      ]
     },
     "execution_count": 163,
     "metadata": {},
     "output_type": "execute_result"
    }
   ],
   "source": [
    "X_test.shape"
   ]
  },
  {
   "cell_type": "markdown",
   "id": "5f86f2ea",
   "metadata": {},
   "source": [
    "Let's visualize the first image of our training set, so we have a better idea of how the data looks like. "
   ]
  },
  {
   "cell_type": "code",
   "execution_count": 164,
   "id": "4f0c3484",
   "metadata": {},
   "outputs": [
    {
     "data": {
      "image/png": "[encoded data removed]",
      "text/plain": [
       "<Figure size 640x480 with 1 Axes>"
      ]
     },
     "metadata": {},
     "output_type": "display_data"
    }
   ],
   "source": [
    "import matplotlib as mlp\n",
    "import matplotlib.pyplot as plt\n",
    "\n",
    "sample_image = X_train_full[0]\n",
    "\n",
    "plt.imshow(sample_image, cmap=\"binary\")\n",
    "plt.axis(\"off\")\n",
    "plt.show()"
   ]
  },
  {
   "cell_type": "markdown",
   "id": "45f80502",
   "metadata": {},
   "source": [
    "## Define Trainining and Validation Sets\n",
    "\n",
    "Now let's scale the data by dividing by the maximum value (255), so all the values are in the $[0, 1]$ range.\n",
    "\n",
    "We will create a validation set from our training set, composed of the first 5000 thousand images, the rest will be used for training."
   ]
  },
  {
   "cell_type": "code",
   "execution_count": 165,
   "id": "537cb86a",
   "metadata": {},
   "outputs": [],
   "source": [
    "# X_train, X_valid, y_train, y_valid = train_test_split(X_train_full, y_train_full)\n",
    "\n",
    "X_valid, X_train = X_train_full[:5000] / 255.0, X_train_full[5000:] / 255.0\n",
    "y_valid, y_train = y_train_full[:5000], y_train_full[5000:]\n",
    "X_test = X_test / 255.0"
   ]
  },
  {
   "cell_type": "code",
   "execution_count": 166,
   "id": "c41020a1",
   "metadata": {},
   "outputs": [
    {
     "name": "stdout",
     "output_type": "stream",
     "text": [
      "(55000, 28, 28)\n",
      "(5000, 28, 28)\n"
     ]
    }
   ],
   "source": [
    "print(X_train.shape)\n",
    "print(X_valid.shape)"
   ]
  },
  {
   "cell_type": "markdown",
   "id": "dca45535",
   "metadata": {},
   "source": [
    "Let's define the names of our classes/categories."
   ]
  },
  {
   "cell_type": "code",
   "execution_count": 167,
   "id": "e6ce9fcb",
   "metadata": {},
   "outputs": [],
   "source": [
    "class_names = [\"T-shirt/top\", \"Trouser\", \"Pullover\", \"Dress\", \n",
    "               \"Coat\", \"Sandal\", \"Shirt\", \"Sneaker\", \"Bag\", \"Ankle boot\"]"
   ]
  },
  {
   "cell_type": "code",
   "execution_count": 168,
   "id": "569aafcd",
   "metadata": {},
   "outputs": [
    {
     "data": {
      "text/plain": [
       "'Coat'"
      ]
     },
     "execution_count": 168,
     "metadata": {},
     "output_type": "execute_result"
    }
   ],
   "source": [
    "class_names[y_train[0]]"
   ]
  },
  {
   "cell_type": "code",
   "execution_count": 169,
   "id": "24e6585e",
   "metadata": {},
   "outputs": [
    {
     "data": {
      "text/plain": [
       "array([4, 0, 7, 9, 9, 9, 4, 4, 3, 4], dtype=uint8)"
      ]
     },
     "execution_count": 169,
     "metadata": {},
     "output_type": "execute_result"
    }
   ],
   "source": [
    "y_train[0:10]"
   ]
  },
  {
   "cell_type": "markdown",
   "id": "63615d87",
   "metadata": {},
   "source": [
    "## Binary Classifier"
   ]
  },
  {
   "cell_type": "code",
   "execution_count": 170,
   "id": "2d2cd406",
   "metadata": {},
   "outputs": [
    {
     "data": {
      "text/plain": [
       "array([1, 1, 1, ..., 1, 1, 1])"
      ]
     },
     "execution_count": 170,
     "metadata": {},
     "output_type": "execute_result"
    }
   ],
   "source": [
    "import numpy as np\n",
    "\n",
    "y_ankle = y_train_full[0]\n",
    "y_train_bin = np.where(y_train == y_ankle, 0, 1)\n",
    "y_train_bin"
   ]
  },
  {
   "cell_type": "code",
   "execution_count": 171,
   "id": "af8a2010",
   "metadata": {},
   "outputs": [],
   "source": [
    "y_valid_bin = np.where(y_valid == y_ankle, 0, 1)\n",
    "y_test_bin = np.where(y_test == y_ankle, 0, 1)"
   ]
  },
  {
   "cell_type": "markdown",
   "id": "f4eb175b",
   "metadata": {},
   "source": [
    "## Create the  Model\n",
    "\n",
    "The input layer has 785 units, which represents the 28 x 28 pixels in the image. Let's define two hidden layers, with 300 and 100 neurons, respecitively. The output layer has 10 units, each representing a class; this output layer uses the `softmax`function to use a multinomial approach to handle multiple classes."
   ]
  },
  {
   "cell_type": "code",
   "execution_count": 172,
   "id": "610a592e",
   "metadata": {},
   "outputs": [
    {
     "name": "stdout",
     "output_type": "stream",
     "text": [
      "Model: \"sequential_3\"\n",
      "_________________________________________________________________\n",
      " Layer (type)                Output Shape              Param #   \n",
      "=================================================================\n",
      " input (Flatten)             (None, 784)               0         \n",
      "                                                                 \n",
      " hidden1 (Dense)             (None, 300)               235500    \n",
      "                                                                 \n",
      " hidden2 (Dense)             (None, 100)               30100     \n",
      "                                                                 \n",
      " output (Dense)              (None, 1)                 101       \n",
      "                                                                 \n",
      "=================================================================\n",
      "Total params: 265,701\n",
      "Trainable params: 265,701\n",
      "Non-trainable params: 0\n",
      "_________________________________________________________________\n"
     ]
    }
   ],
   "source": [
    "model = keras.models.Sequential([\n",
    "    keras.layers.Flatten(input_shape=[28, 28], name=\"input\"),\n",
    "    keras.layers.Dense(300, activation=\"sigmoid\", name=\"hidden1\"),\n",
    "    keras.layers.Dense(100, activation=\"sigmoid\", name=\"hidden2\"),\n",
    "    keras.layers.Dense(1, activation=\"sigmoid\", name=\"output\")\n",
    "])\n",
    "model.summary()\n"
   ]
  },
  {
   "cell_type": "markdown",
   "id": "2666836d",
   "metadata": {},
   "source": [
    "We can get an array of the layers in our network with the `layers` propery."
   ]
  },
  {
   "cell_type": "code",
   "execution_count": 173,
   "id": "2ef9f71b",
   "metadata": {},
   "outputs": [
    {
     "data": {
      "text/plain": [
       "[<keras.layers.reshaping.flatten.Flatten at 0x2a02b1280>,\n",
       " <keras.layers.core.dense.Dense at 0x2a02b11f0>,\n",
       " <keras.layers.core.dense.Dense at 0x2a3fb24c0>,\n",
       " <keras.layers.core.dense.Dense at 0x2a02b1970>]"
      ]
     },
     "execution_count": 173,
     "metadata": {},
     "output_type": "execute_result"
    }
   ],
   "source": [
    "model.layers"
   ]
  },
  {
   "cell_type": "markdown",
   "id": "0dcb5dd7",
   "metadata": {},
   "source": [
    "We can get an especific layer by index, and access the properties of that layer."
   ]
  },
  {
   "cell_type": "code",
   "execution_count": 174,
   "id": "4880756d",
   "metadata": {},
   "outputs": [
    {
     "data": {
      "text/plain": [
       "'hidden1'"
      ]
     },
     "execution_count": 174,
     "metadata": {},
     "output_type": "execute_result"
    }
   ],
   "source": [
    "hidden1 = model.layers[1]\n",
    "hidden1.name"
   ]
  },
  {
   "cell_type": "markdown",
   "id": "e3baaf20",
   "metadata": {},
   "source": [
    "We also can get a layer by its name with the `get_layer` method."
   ]
  },
  {
   "cell_type": "code",
   "execution_count": 175,
   "id": "4218d259",
   "metadata": {},
   "outputs": [
    {
     "data": {
      "text/plain": [
       "True"
      ]
     },
     "execution_count": 175,
     "metadata": {},
     "output_type": "execute_result"
    }
   ],
   "source": [
    "model.get_layer(\"hidden1\") is hidden1"
   ]
  },
  {
   "cell_type": "markdown",
   "id": "26693938",
   "metadata": {},
   "source": [
    "The `get_weights` method returns the weight parameters and bias terms of a layer."
   ]
  },
  {
   "cell_type": "code",
   "execution_count": 176,
   "id": "48f0caf8",
   "metadata": {},
   "outputs": [
    {
     "data": {
      "text/plain": [
       "array([[ 0.06646881, -0.01292914,  0.04986201, ..., -0.04686245,\n",
       "         0.00351156, -0.02708911],\n",
       "       [-0.05719316,  0.02932094,  0.04294334, ...,  0.03775851,\n",
       "        -0.0699632 ,  0.03168429],\n",
       "       [-0.05547386, -0.0236292 ,  0.06560589, ..., -0.04187467,\n",
       "         0.06099258,  0.02143674],\n",
       "       ...,\n",
       "       [ 0.00425687,  0.05048473,  0.04456843, ..., -0.05111232,\n",
       "         0.02372888,  0.04002428],\n",
       "       [ 0.00693998, -0.00932447,  0.01112469, ...,  0.06034316,\n",
       "        -0.064955  ,  0.0357217 ],\n",
       "       [ 0.03471807,  0.03846084,  0.00690506, ...,  0.00571021,\n",
       "        -0.01373942, -0.0207839 ]], dtype=float32)"
      ]
     },
     "execution_count": 176,
     "metadata": {},
     "output_type": "execute_result"
    }
   ],
   "source": [
    "weights, biases = hidden1.get_weights()\n",
    "weights"
   ]
  },
  {
   "cell_type": "code",
   "execution_count": 177,
   "id": "87aef5ac",
   "metadata": {},
   "outputs": [
    {
     "name": "stdout",
     "output_type": "stream",
     "text": [
      "(784, 300)\n",
      "(300,)\n"
     ]
    }
   ],
   "source": [
    "print(weights.shape)\n",
    "print(biases.shape)"
   ]
  },
  {
   "cell_type": "markdown",
   "id": "79f61f7e",
   "metadata": {},
   "source": [
    "## Compile the Model\n",
    "\n",
    "In this step we specify the loss function, optimizers, and metrics for our network. For this example, we are using the categorical crossentroy loss function, since we are dealing with a multiclass categorical target variable. The `sgd` refers to the \"Stochastic Gradiend Descent\" algorithm, and we will use the accuracy for measuring the performance of our network. "
   ]
  },
  {
   "cell_type": "code",
   "execution_count": 178,
   "id": "1ecb200e",
   "metadata": {},
   "outputs": [],
   "source": [
    "model.compile(loss=\"binary_crossentropy\",\n",
    "              optimizer=\"sgd\",\n",
    "              metrics=[\"accuracy\"])"
   ]
  },
  {
   "cell_type": "markdown",
   "id": "b877884d",
   "metadata": {},
   "source": [
    "## Adding Callbacks\n",
    "\n",
    "Callback are helpful to execute periodic specific tasks, for example, at the end of one epoch. In this case, we are adding an \"Early Stopping\" callback, indicating that if the validation score doesn't improve in 10 epochs, the training will stop and we will get the best solution computed."
   ]
  },
  {
   "cell_type": "code",
   "execution_count": 179,
   "id": "a6ab0e72",
   "metadata": {},
   "outputs": [],
   "source": [
    "early_stopping_cb = keras.callbacks.EarlyStopping(patience=10, restore_best_weights=True)"
   ]
  },
  {
   "cell_type": "markdown",
   "id": "6c739548",
   "metadata": {},
   "source": [
    "You can also define your own callbacks, here we are defining a callback that prints the ration between the validation score and the training score."
   ]
  },
  {
   "cell_type": "code",
   "execution_count": 180,
   "id": "d5ba10e0",
   "metadata": {},
   "outputs": [],
   "source": [
    "class MyCallback(keras.callbacks.Callback):\n",
    "    def on_epoch_end(self, epoch, logs):\n",
    "        print(f\"\\nval/train: {logs['val_loss'] / logs['loss']}\")"
   ]
  },
  {
   "cell_type": "markdown",
   "id": "e6cef0ff",
   "metadata": {},
   "source": [
    "## Training and Evaluating\n",
    "\n",
    "To train the network we need to specify the training and validation sets, as well as the number of epochs, callbacks ,and all the necessary parameters."
   ]
  },
  {
   "cell_type": "code",
   "execution_count": 181,
   "id": "9409a00b",
   "metadata": {},
   "outputs": [
    {
     "name": "stdout",
     "output_type": "stream",
     "text": [
      "Epoch 1/100\n",
      "1719/1719 [==============================] - 2s 908us/step - loss: 0.2695 - accuracy: 0.8982 - val_loss: 0.1875 - val_accuracy: 0.8988\n",
      "Epoch 2/100\n",
      "1719/1719 [==============================] - 1s 872us/step - loss: 0.1249 - accuracy: 0.9511 - val_loss: 0.0901 - val_accuracy: 0.9696\n",
      "Epoch 3/100\n",
      "1719/1719 [==============================] - 1s 872us/step - loss: 0.0763 - accuracy: 0.9745 - val_loss: 0.0696 - val_accuracy: 0.9722\n",
      "Epoch 4/100\n",
      "1719/1719 [==============================] - 1s 872us/step - loss: 0.0643 - accuracy: 0.9762 - val_loss: 0.0622 - val_accuracy: 0.9736\n",
      "Epoch 5/100\n",
      "1719/1719 [==============================] - 2s 873us/step - loss: 0.0590 - accuracy: 0.9774 - val_loss: 0.0582 - val_accuracy: 0.9748\n",
      "Epoch 6/100\n",
      "1719/1719 [==============================] - 1s 872us/step - loss: 0.0560 - accuracy: 0.9783 - val_loss: 0.0555 - val_accuracy: 0.9760\n",
      "Epoch 7/100\n",
      "1719/1719 [==============================] - 2s 880us/step - loss: 0.0538 - accuracy: 0.9792 - val_loss: 0.0536 - val_accuracy: 0.9770\n",
      "Epoch 8/100\n",
      "1719/1719 [==============================] - 2s 883us/step - loss: 0.0523 - accuracy: 0.9798 - val_loss: 0.0519 - val_accuracy: 0.9784\n",
      "Epoch 9/100\n",
      "1719/1719 [==============================] - 1s 872us/step - loss: 0.0510 - accuracy: 0.9802 - val_loss: 0.0508 - val_accuracy: 0.9786\n",
      "Epoch 10/100\n",
      "1719/1719 [==============================] - 2s 880us/step - loss: 0.0499 - accuracy: 0.9807 - val_loss: 0.0493 - val_accuracy: 0.9796\n",
      "Epoch 11/100\n",
      "1719/1719 [==============================] - 2s 876us/step - loss: 0.0489 - accuracy: 0.9810 - val_loss: 0.0485 - val_accuracy: 0.9790\n",
      "Epoch 12/100\n",
      "1719/1719 [==============================] - 2s 875us/step - loss: 0.0480 - accuracy: 0.9814 - val_loss: 0.0471 - val_accuracy: 0.9806\n",
      "Epoch 13/100\n",
      "1719/1719 [==============================] - 1s 872us/step - loss: 0.0472 - accuracy: 0.9815 - val_loss: 0.0462 - val_accuracy: 0.9804\n",
      "Epoch 14/100\n",
      "1719/1719 [==============================] - 2s 886us/step - loss: 0.0465 - accuracy: 0.9821 - val_loss: 0.0450 - val_accuracy: 0.9818\n",
      "Epoch 15/100\n",
      "1719/1719 [==============================] - 2s 901us/step - loss: 0.0458 - accuracy: 0.9823 - val_loss: 0.0443 - val_accuracy: 0.9816\n",
      "Epoch 16/100\n",
      "1719/1719 [==============================] - 2s 894us/step - loss: 0.0451 - accuracy: 0.9825 - val_loss: 0.0437 - val_accuracy: 0.9814\n",
      "Epoch 17/100\n",
      "1719/1719 [==============================] - 2s 910us/step - loss: 0.0444 - accuracy: 0.9830 - val_loss: 0.0426 - val_accuracy: 0.9832\n",
      "Epoch 18/100\n",
      "1719/1719 [==============================] - 2s 881us/step - loss: 0.0439 - accuracy: 0.9833 - val_loss: 0.0419 - val_accuracy: 0.9834\n",
      "Epoch 19/100\n",
      "1719/1719 [==============================] - 2s 878us/step - loss: 0.0433 - accuracy: 0.9837 - val_loss: 0.0413 - val_accuracy: 0.9832\n",
      "Epoch 20/100\n",
      "1719/1719 [==============================] - 2s 877us/step - loss: 0.0428 - accuracy: 0.9838 - val_loss: 0.0407 - val_accuracy: 0.9838\n",
      "Epoch 21/100\n",
      "1719/1719 [==============================] - 2s 895us/step - loss: 0.0423 - accuracy: 0.9840 - val_loss: 0.0403 - val_accuracy: 0.9838\n",
      "Epoch 22/100\n",
      "1719/1719 [==============================] - 2s 872us/step - loss: 0.0419 - accuracy: 0.9842 - val_loss: 0.0396 - val_accuracy: 0.9846\n",
      "Epoch 23/100\n",
      "1719/1719 [==============================] - 2s 873us/step - loss: 0.0414 - accuracy: 0.9846 - val_loss: 0.0391 - val_accuracy: 0.9850\n",
      "Epoch 24/100\n",
      "1719/1719 [==============================] - 2s 878us/step - loss: 0.0409 - accuracy: 0.9847 - val_loss: 0.0394 - val_accuracy: 0.9834\n",
      "Epoch 25/100\n",
      "1719/1719 [==============================] - 2s 873us/step - loss: 0.0405 - accuracy: 0.9850 - val_loss: 0.0384 - val_accuracy: 0.9838\n",
      "Epoch 26/100\n",
      "1719/1719 [==============================] - 1s 871us/step - loss: 0.0402 - accuracy: 0.9848 - val_loss: 0.0378 - val_accuracy: 0.9852\n",
      "Epoch 27/100\n",
      "1719/1719 [==============================] - 2s 878us/step - loss: 0.0398 - accuracy: 0.9851 - val_loss: 0.0377 - val_accuracy: 0.9840\n",
      "Epoch 28/100\n",
      "1719/1719 [==============================] - 2s 878us/step - loss: 0.0395 - accuracy: 0.9854 - val_loss: 0.0371 - val_accuracy: 0.9860\n",
      "Epoch 29/100\n",
      "1719/1719 [==============================] - 2s 875us/step - loss: 0.0392 - accuracy: 0.9854 - val_loss: 0.0368 - val_accuracy: 0.9856\n",
      "Epoch 30/100\n",
      "1719/1719 [==============================] - 2s 880us/step - loss: 0.0388 - accuracy: 0.9857 - val_loss: 0.0367 - val_accuracy: 0.9856\n",
      "Epoch 31/100\n",
      "1719/1719 [==============================] - 2s 874us/step - loss: 0.0385 - accuracy: 0.9858 - val_loss: 0.0363 - val_accuracy: 0.9860\n",
      "Epoch 32/100\n",
      "1719/1719 [==============================] - 1s 872us/step - loss: 0.0382 - accuracy: 0.9856 - val_loss: 0.0361 - val_accuracy: 0.9858\n",
      "Epoch 33/100\n",
      "1719/1719 [==============================] - 2s 875us/step - loss: 0.0380 - accuracy: 0.9859 - val_loss: 0.0358 - val_accuracy: 0.9862\n",
      "Epoch 34/100\n",
      "1719/1719 [==============================] - 2s 876us/step - loss: 0.0377 - accuracy: 0.9857 - val_loss: 0.0357 - val_accuracy: 0.9866\n",
      "Epoch 35/100\n",
      "1719/1719 [==============================] - 2s 877us/step - loss: 0.0374 - accuracy: 0.9863 - val_loss: 0.0352 - val_accuracy: 0.9866\n",
      "Epoch 36/100\n",
      "1719/1719 [==============================] - 2s 873us/step - loss: 0.0372 - accuracy: 0.9865 - val_loss: 0.0354 - val_accuracy: 0.9858\n",
      "Epoch 37/100\n",
      "1719/1719 [==============================] - 1s 869us/step - loss: 0.0370 - accuracy: 0.9865 - val_loss: 0.0349 - val_accuracy: 0.9862\n",
      "Epoch 38/100\n",
      "1719/1719 [==============================] - 1s 859us/step - loss: 0.0367 - accuracy: 0.9866 - val_loss: 0.0346 - val_accuracy: 0.9872\n",
      "Epoch 39/100\n",
      "1719/1719 [==============================] - 1s 859us/step - loss: 0.0365 - accuracy: 0.9867 - val_loss: 0.0346 - val_accuracy: 0.9862\n",
      "Epoch 40/100\n",
      "1719/1719 [==============================] - 1s 855us/step - loss: 0.0363 - accuracy: 0.9865 - val_loss: 0.0343 - val_accuracy: 0.9870\n",
      "Epoch 41/100\n",
      "1719/1719 [==============================] - 1s 851us/step - loss: 0.0360 - accuracy: 0.9867 - val_loss: 0.0346 - val_accuracy: 0.9864\n",
      "Epoch 42/100\n",
      "1719/1719 [==============================] - 1s 840us/step - loss: 0.0359 - accuracy: 0.9868 - val_loss: 0.0340 - val_accuracy: 0.9874\n",
      "Epoch 43/100\n",
      "1719/1719 [==============================] - 1s 841us/step - loss: 0.0356 - accuracy: 0.9870 - val_loss: 0.0342 - val_accuracy: 0.9870\n",
      "Epoch 44/100\n",
      "1719/1719 [==============================] - 1s 841us/step - loss: 0.0355 - accuracy: 0.9872 - val_loss: 0.0338 - val_accuracy: 0.9868\n",
      "Epoch 45/100\n",
      "1719/1719 [==============================] - 1s 853us/step - loss: 0.0353 - accuracy: 0.9872 - val_loss: 0.0344 - val_accuracy: 0.9866\n",
      "Epoch 46/100\n",
      "1719/1719 [==============================] - 1s 849us/step - loss: 0.0351 - accuracy: 0.9870 - val_loss: 0.0334 - val_accuracy: 0.9874\n",
      "Epoch 47/100\n",
      "1719/1719 [==============================] - 1s 859us/step - loss: 0.0349 - accuracy: 0.9871 - val_loss: 0.0333 - val_accuracy: 0.9878\n",
      "Epoch 48/100\n",
      "1719/1719 [==============================] - 1s 856us/step - loss: 0.0348 - accuracy: 0.9872 - val_loss: 0.0334 - val_accuracy: 0.9868\n",
      "Epoch 49/100\n",
      "1719/1719 [==============================] - 1s 868us/step - loss: 0.0346 - accuracy: 0.9872 - val_loss: 0.0330 - val_accuracy: 0.9880\n",
      "Epoch 50/100\n",
      "1719/1719 [==============================] - 1s 869us/step - loss: 0.0344 - accuracy: 0.9874 - val_loss: 0.0335 - val_accuracy: 0.9870\n",
      "Epoch 51/100\n",
      "1719/1719 [==============================] - 1s 865us/step - loss: 0.0342 - accuracy: 0.9876 - val_loss: 0.0328 - val_accuracy: 0.9880\n",
      "Epoch 52/100\n",
      "1719/1719 [==============================] - 1s 871us/step - loss: 0.0341 - accuracy: 0.9875 - val_loss: 0.0329 - val_accuracy: 0.9876\n",
      "Epoch 53/100\n",
      "1719/1719 [==============================] - 1s 864us/step - loss: 0.0339 - accuracy: 0.9874 - val_loss: 0.0330 - val_accuracy: 0.9876\n",
      "Epoch 54/100\n",
      "1719/1719 [==============================] - 2s 879us/step - loss: 0.0337 - accuracy: 0.9873 - val_loss: 0.0328 - val_accuracy: 0.9878\n",
      "Epoch 55/100\n",
      "1719/1719 [==============================] - 2s 874us/step - loss: 0.0336 - accuracy: 0.9875 - val_loss: 0.0327 - val_accuracy: 0.9878\n",
      "Epoch 56/100\n"
     ]
    },
    {
     "name": "stdout",
     "output_type": "stream",
     "text": [
      "1719/1719 [==============================] - 1s 866us/step - loss: 0.0334 - accuracy: 0.9877 - val_loss: 0.0325 - val_accuracy: 0.9878\n",
      "Epoch 57/100\n",
      "1719/1719 [==============================] - 1s 866us/step - loss: 0.0333 - accuracy: 0.9878 - val_loss: 0.0330 - val_accuracy: 0.9876\n",
      "Epoch 58/100\n",
      "1719/1719 [==============================] - 1s 867us/step - loss: 0.0332 - accuracy: 0.9877 - val_loss: 0.0327 - val_accuracy: 0.9876\n",
      "Epoch 59/100\n",
      "1719/1719 [==============================] - 1s 868us/step - loss: 0.0329 - accuracy: 0.9883 - val_loss: 0.0337 - val_accuracy: 0.9864\n",
      "Epoch 60/100\n",
      "1719/1719 [==============================] - 1s 865us/step - loss: 0.0330 - accuracy: 0.9880 - val_loss: 0.0322 - val_accuracy: 0.9880\n",
      "Epoch 61/100\n",
      "1719/1719 [==============================] - 1s 868us/step - loss: 0.0328 - accuracy: 0.9880 - val_loss: 0.0323 - val_accuracy: 0.9874\n",
      "Epoch 62/100\n",
      "1719/1719 [==============================] - 2s 881us/step - loss: 0.0327 - accuracy: 0.9879 - val_loss: 0.0322 - val_accuracy: 0.9876\n",
      "Epoch 63/100\n",
      "1719/1719 [==============================] - 1s 869us/step - loss: 0.0326 - accuracy: 0.9880 - val_loss: 0.0323 - val_accuracy: 0.9878\n",
      "Epoch 64/100\n",
      "1719/1719 [==============================] - 1s 869us/step - loss: 0.0325 - accuracy: 0.9879 - val_loss: 0.0319 - val_accuracy: 0.9878\n",
      "Epoch 65/100\n",
      "1719/1719 [==============================] - 1s 868us/step - loss: 0.0323 - accuracy: 0.9880 - val_loss: 0.0318 - val_accuracy: 0.9884\n",
      "Epoch 66/100\n",
      "1719/1719 [==============================] - 1s 869us/step - loss: 0.0322 - accuracy: 0.9881 - val_loss: 0.0319 - val_accuracy: 0.9882\n",
      "Epoch 67/100\n",
      "1719/1719 [==============================] - 1s 868us/step - loss: 0.0321 - accuracy: 0.9880 - val_loss: 0.0323 - val_accuracy: 0.9872\n",
      "Epoch 68/100\n",
      "1719/1719 [==============================] - 1s 867us/step - loss: 0.0319 - accuracy: 0.9885 - val_loss: 0.0320 - val_accuracy: 0.9876\n",
      "Epoch 69/100\n",
      "1719/1719 [==============================] - 1s 869us/step - loss: 0.0318 - accuracy: 0.9882 - val_loss: 0.0326 - val_accuracy: 0.9876\n",
      "Epoch 70/100\n",
      "1719/1719 [==============================] - 1s 867us/step - loss: 0.0318 - accuracy: 0.9884 - val_loss: 0.0317 - val_accuracy: 0.9884\n",
      "Epoch 71/100\n",
      "1719/1719 [==============================] - 1s 868us/step - loss: 0.0316 - accuracy: 0.9883 - val_loss: 0.0321 - val_accuracy: 0.9872\n",
      "Epoch 72/100\n",
      "1719/1719 [==============================] - 2s 894us/step - loss: 0.0315 - accuracy: 0.9884 - val_loss: 0.0315 - val_accuracy: 0.9882\n",
      "Epoch 73/100\n",
      "1719/1719 [==============================] - 2s 879us/step - loss: 0.0315 - accuracy: 0.9883 - val_loss: 0.0314 - val_accuracy: 0.9882\n",
      "Epoch 74/100\n",
      "1719/1719 [==============================] - 1s 871us/step - loss: 0.0313 - accuracy: 0.9886 - val_loss: 0.0314 - val_accuracy: 0.9882\n",
      "Epoch 75/100\n",
      "1719/1719 [==============================] - 1s 868us/step - loss: 0.0313 - accuracy: 0.9885 - val_loss: 0.0313 - val_accuracy: 0.9882\n",
      "Epoch 76/100\n",
      "1719/1719 [==============================] - 1s 868us/step - loss: 0.0312 - accuracy: 0.9884 - val_loss: 0.0313 - val_accuracy: 0.9882\n",
      "Epoch 77/100\n",
      "1719/1719 [==============================] - 1s 869us/step - loss: 0.0311 - accuracy: 0.9887 - val_loss: 0.0319 - val_accuracy: 0.9874\n",
      "Epoch 78/100\n",
      "1719/1719 [==============================] - 1s 868us/step - loss: 0.0310 - accuracy: 0.9887 - val_loss: 0.0319 - val_accuracy: 0.9876\n",
      "Epoch 79/100\n",
      "1719/1719 [==============================] - 2s 875us/step - loss: 0.0310 - accuracy: 0.9884 - val_loss: 0.0319 - val_accuracy: 0.9876\n",
      "Epoch 80/100\n",
      "1719/1719 [==============================] - 2s 929us/step - loss: 0.0308 - accuracy: 0.9887 - val_loss: 0.0314 - val_accuracy: 0.9878\n",
      "Epoch 81/100\n",
      "1719/1719 [==============================] - 2s 893us/step - loss: 0.0307 - accuracy: 0.9887 - val_loss: 0.0312 - val_accuracy: 0.9884\n",
      "Epoch 82/100\n",
      "1719/1719 [==============================] - 2s 900us/step - loss: 0.0306 - accuracy: 0.9886 - val_loss: 0.0315 - val_accuracy: 0.9876\n",
      "Epoch 83/100\n",
      "1719/1719 [==============================] - 2s 887us/step - loss: 0.0305 - accuracy: 0.9887 - val_loss: 0.0312 - val_accuracy: 0.9886\n",
      "Epoch 84/100\n",
      "1719/1719 [==============================] - 2s 882us/step - loss: 0.0305 - accuracy: 0.9886 - val_loss: 0.0312 - val_accuracy: 0.9882\n",
      "Epoch 85/100\n",
      "1719/1719 [==============================] - 2s 891us/step - loss: 0.0304 - accuracy: 0.9887 - val_loss: 0.0310 - val_accuracy: 0.9886\n",
      "Epoch 86/100\n",
      "1719/1719 [==============================] - 2s 891us/step - loss: 0.0303 - accuracy: 0.9887 - val_loss: 0.0310 - val_accuracy: 0.9884\n",
      "Epoch 87/100\n",
      "1719/1719 [==============================] - 2s 896us/step - loss: 0.0302 - accuracy: 0.9887 - val_loss: 0.0309 - val_accuracy: 0.9884\n",
      "Epoch 88/100\n",
      "1719/1719 [==============================] - 2s 898us/step - loss: 0.0301 - accuracy: 0.9889 - val_loss: 0.0310 - val_accuracy: 0.9886\n",
      "Epoch 89/100\n",
      "1719/1719 [==============================] - 2s 911us/step - loss: 0.0301 - accuracy: 0.9889 - val_loss: 0.0315 - val_accuracy: 0.9874\n",
      "Epoch 90/100\n",
      "1719/1719 [==============================] - 2s 890us/step - loss: 0.0299 - accuracy: 0.9891 - val_loss: 0.0311 - val_accuracy: 0.9878\n",
      "Epoch 91/100\n",
      "1719/1719 [==============================] - 2s 894us/step - loss: 0.0299 - accuracy: 0.9890 - val_loss: 0.0308 - val_accuracy: 0.9886\n",
      "Epoch 92/100\n",
      "1719/1719 [==============================] - 2s 883us/step - loss: 0.0298 - accuracy: 0.9889 - val_loss: 0.0307 - val_accuracy: 0.9882\n",
      "Epoch 93/100\n",
      "1719/1719 [==============================] - 2s 878us/step - loss: 0.0298 - accuracy: 0.9890 - val_loss: 0.0310 - val_accuracy: 0.9880\n",
      "Epoch 94/100\n",
      "1719/1719 [==============================] - 2s 903us/step - loss: 0.0296 - accuracy: 0.9894 - val_loss: 0.0307 - val_accuracy: 0.9886\n",
      "Epoch 95/100\n",
      "1719/1719 [==============================] - 2s 904us/step - loss: 0.0296 - accuracy: 0.9891 - val_loss: 0.0310 - val_accuracy: 0.9888\n",
      "Epoch 96/100\n",
      "1719/1719 [==============================] - 2s 886us/step - loss: 0.0295 - accuracy: 0.9890 - val_loss: 0.0309 - val_accuracy: 0.9882\n",
      "Epoch 97/100\n",
      "1719/1719 [==============================] - 2s 879us/step - loss: 0.0294 - accuracy: 0.9891 - val_loss: 0.0312 - val_accuracy: 0.9888\n",
      "Epoch 98/100\n",
      "1719/1719 [==============================] - 2s 883us/step - loss: 0.0293 - accuracy: 0.9893 - val_loss: 0.0314 - val_accuracy: 0.9874\n",
      "Epoch 99/100\n",
      "1719/1719 [==============================] - 2s 875us/step - loss: 0.0293 - accuracy: 0.9893 - val_loss: 0.0313 - val_accuracy: 0.9874\n",
      "Epoch 100/100\n",
      "1719/1719 [==============================] - 2s 900us/step - loss: 0.0293 - accuracy: 0.9891 - val_loss: 0.0307 - val_accuracy: 0.9880\n"
     ]
    }
   ],
   "source": [
    "history = model.fit(X_train, \n",
    "                    y_train_bin, \n",
    "                    epochs=100, \n",
    "                    validation_data=(X_valid, y_valid_bin),\n",
    "                    callbacks=[early_stopping_cb]\n",
    "                   )"
   ]
  },
  {
   "cell_type": "markdown",
   "id": "b537a308",
   "metadata": {},
   "source": [
    "With the `epoch` property we get a list with all the epochs that were completed. "
   ]
  },
  {
   "cell_type": "code",
   "execution_count": 182,
   "id": "ed64ae54",
   "metadata": {},
   "outputs": [
    {
     "data": {
      "text/plain": [
       "100"
      ]
     },
     "execution_count": 182,
     "metadata": {},
     "output_type": "execute_result"
    }
   ],
   "source": [
    "len(history.epoch)"
   ]
  },
  {
   "cell_type": "markdown",
   "id": "4472128b",
   "metadata": {},
   "source": [
    "The `steps` parameter refers to the number number of steps to complete an epoch, `batch_size * steps = n`. By default the batch size is 32."
   ]
  },
  {
   "cell_type": "code",
   "execution_count": 183,
   "id": "acb39dbf",
   "metadata": {},
   "outputs": [
    {
     "data": {
      "text/plain": [
       "{'verbose': 1, 'epochs': 100, 'steps': 1719}"
      ]
     },
     "execution_count": 183,
     "metadata": {},
     "output_type": "execute_result"
    }
   ],
   "source": [
    "history.params"
   ]
  },
  {
   "cell_type": "code",
   "execution_count": 184,
   "id": "ca7d36ad",
   "metadata": {},
   "outputs": [
    {
     "data": {
      "text/plain": [
       "{'loss': [0.2695257067680359,\n",
       "  0.1248958483338356,\n",
       "  0.07634817808866501,\n",
       "  0.06427951902151108,\n",
       "  0.05904070660471916,\n",
       "  0.05596290901303291,\n",
       "  0.053811512887477875,\n",
       "  0.05229172855615616,\n",
       "  0.05100465938448906,\n",
       "  0.04994119703769684,\n",
       "  0.04892474412918091,\n",
       "  0.04803336411714554,\n",
       "  0.04724544659256935,\n",
       "  0.04647666960954666,\n",
       "  0.04576048627495766,\n",
       "  0.04510057717561722,\n",
       "  0.04441598057746887,\n",
       "  0.04387957230210304,\n",
       "  0.043290115892887115,\n",
       "  0.042792901396751404,\n",
       "  0.042272184044122696,\n",
       "  0.041858453303575516,\n",
       "  0.041392870247364044,\n",
       "  0.04090234264731407,\n",
       "  0.040541451424360275,\n",
       "  0.040205348283052444,\n",
       "  0.039828650653362274,\n",
       "  0.03950323909521103,\n",
       "  0.03917328640818596,\n",
       "  0.03882341831922531,\n",
       "  0.03853675723075867,\n",
       "  0.03822055086493492,\n",
       "  0.038023605942726135,\n",
       "  0.037690967321395874,\n",
       "  0.03744324669241905,\n",
       "  0.03720756620168686,\n",
       "  0.03695417195558548,\n",
       "  0.0366806834936142,\n",
       "  0.03647635877132416,\n",
       "  0.036282915621995926,\n",
       "  0.03596533089876175,\n",
       "  0.035904910415410995,\n",
       "  0.035638827830553055,\n",
       "  0.03546031937003136,\n",
       "  0.03526468575000763,\n",
       "  0.03505067527294159,\n",
       "  0.03493110090494156,\n",
       "  0.03477976843714714,\n",
       "  0.034612592309713364,\n",
       "  0.034381378442049026,\n",
       "  0.034175533801317215,\n",
       "  0.034062620252370834,\n",
       "  0.03394034877419472,\n",
       "  0.0337410494685173,\n",
       "  0.03363463282585144,\n",
       "  0.03343001753091812,\n",
       "  0.03331517055630684,\n",
       "  0.03319168463349342,\n",
       "  0.032946426421403885,\n",
       "  0.0329732745885849,\n",
       "  0.03279561176896095,\n",
       "  0.03272617980837822,\n",
       "  0.032585978507995605,\n",
       "  0.03247179463505745,\n",
       "  0.03228034824132919,\n",
       "  0.032238204032182693,\n",
       "  0.03208518773317337,\n",
       "  0.031911615282297134,\n",
       "  0.031830083578825,\n",
       "  0.031760092824697495,\n",
       "  0.031630951911211014,\n",
       "  0.03153686597943306,\n",
       "  0.03148450329899788,\n",
       "  0.03133995831012726,\n",
       "  0.031262535601854324,\n",
       "  0.031153613701462746,\n",
       "  0.031128915026783943,\n",
       "  0.030976733192801476,\n",
       "  0.03095061518251896,\n",
       "  0.030770018696784973,\n",
       "  0.030730461701750755,\n",
       "  0.03061543218791485,\n",
       "  0.030546464025974274,\n",
       "  0.030500788241624832,\n",
       "  0.03036491945385933,\n",
       "  0.030313076451420784,\n",
       "  0.030222691595554352,\n",
       "  0.03014216385781765,\n",
       "  0.03007403202354908,\n",
       "  0.029946012422442436,\n",
       "  0.029904894530773163,\n",
       "  0.029788577929139137,\n",
       "  0.02977198176085949,\n",
       "  0.02959716133773327,\n",
       "  0.029586568474769592,\n",
       "  0.02949339523911476,\n",
       "  0.02941412664949894,\n",
       "  0.02926352247595787,\n",
       "  0.029307816177606583,\n",
       "  0.029290560632944107],\n",
       " 'accuracy': [0.8981636166572571,\n",
       "  0.951090931892395,\n",
       "  0.97447270154953,\n",
       "  0.9761818051338196,\n",
       "  0.9774181842803955,\n",
       "  0.9783272743225098,\n",
       "  0.9791818261146545,\n",
       "  0.9797818064689636,\n",
       "  0.9802181720733643,\n",
       "  0.9807090759277344,\n",
       "  0.9810181856155396,\n",
       "  0.9814363718032837,\n",
       "  0.9814545512199402,\n",
       "  0.9820908904075623,\n",
       "  0.982272744178772,\n",
       "  0.9824908971786499,\n",
       "  0.983018159866333,\n",
       "  0.9833454489707947,\n",
       "  0.9836909174919128,\n",
       "  0.9837818145751953,\n",
       "  0.9839818477630615,\n",
       "  0.9842000007629395,\n",
       "  0.9846363663673401,\n",
       "  0.9846545457839966,\n",
       "  0.9850181937217712,\n",
       "  0.9848363399505615,\n",
       "  0.9851454496383667,\n",
       "  0.9853818416595459,\n",
       "  0.9853636622428894,\n",
       "  0.9856727123260498,\n",
       "  0.985836386680603,\n",
       "  0.9855999946594238,\n",
       "  0.985945463180542,\n",
       "  0.9857272505760193,\n",
       "  0.9862909317016602,\n",
       "  0.9865090847015381,\n",
       "  0.9864727258682251,\n",
       "  0.986618161201477,\n",
       "  0.9866909384727478,\n",
       "  0.9865454435348511,\n",
       "  0.9867454767227173,\n",
       "  0.9868181943893433,\n",
       "  0.9870363473892212,\n",
       "  0.9872182011604309,\n",
       "  0.9871636629104614,\n",
       "  0.9869999885559082,\n",
       "  0.9871454834938049,\n",
       "  0.9871818423271179,\n",
       "  0.9872363805770874,\n",
       "  0.9873999953269958,\n",
       "  0.9876000285148621,\n",
       "  0.9874545335769653,\n",
       "  0.9874363541603088,\n",
       "  0.9873454570770264,\n",
       "  0.9875272512435913,\n",
       "  0.987672746181488,\n",
       "  0.987781822681427,\n",
       "  0.987745463848114,\n",
       "  0.9882727265357971,\n",
       "  0.9879817962646484,\n",
       "  0.9879817962646484,\n",
       "  0.9878727197647095,\n",
       "  0.9879636168479919,\n",
       "  0.987854540348053,\n",
       "  0.9880181550979614,\n",
       "  0.9881272912025452,\n",
       "  0.9880181550979614,\n",
       "  0.9884545207023621,\n",
       "  0.9881818294525146,\n",
       "  0.9883636236190796,\n",
       "  0.9882545471191406,\n",
       "  0.9883636236190796,\n",
       "  0.9883454442024231,\n",
       "  0.9885818362236023,\n",
       "  0.9885091185569763,\n",
       "  0.9884363412857056,\n",
       "  0.9886909127235413,\n",
       "  0.9887090921401978,\n",
       "  0.9883999824523926,\n",
       "  0.9887454509735107,\n",
       "  0.9887454509735107,\n",
       "  0.9886000156402588,\n",
       "  0.9887090921401978,\n",
       "  0.9885818362236023,\n",
       "  0.9886727333068848,\n",
       "  0.9886909127235413,\n",
       "  0.9886909127235413,\n",
       "  0.9888727068901062,\n",
       "  0.9888727068901062,\n",
       "  0.9890545606613159,\n",
       "  0.9890000224113464,\n",
       "  0.988945484161377,\n",
       "  0.9889636635780334,\n",
       "  0.9894182085990906,\n",
       "  0.9891454577445984,\n",
       "  0.9890363812446594,\n",
       "  0.9890909194946289,\n",
       "  0.9892727136611938,\n",
       "  0.9892908930778503,\n",
       "  0.9891454577445984],\n",
       " 'val_loss': [0.18747682869434357,\n",
       "  0.09005577117204666,\n",
       "  0.0696358010172844,\n",
       "  0.062248002737760544,\n",
       "  0.05819746106863022,\n",
       "  0.055548712611198425,\n",
       "  0.05359289050102234,\n",
       "  0.05193748697638512,\n",
       "  0.05075442045927048,\n",
       "  0.049267709255218506,\n",
       "  0.04847145825624466,\n",
       "  0.04712915048003197,\n",
       "  0.0462062805891037,\n",
       "  0.04502633959054947,\n",
       "  0.04431537911295891,\n",
       "  0.04374188929796219,\n",
       "  0.042614128440618515,\n",
       "  0.04194486141204834,\n",
       "  0.041313719004392624,\n",
       "  0.04065830633044243,\n",
       "  0.040269847959280014,\n",
       "  0.039564963430166245,\n",
       "  0.03907685726881027,\n",
       "  0.039414845407009125,\n",
       "  0.03837061673402786,\n",
       "  0.03780388459563255,\n",
       "  0.03772414103150368,\n",
       "  0.03707388415932655,\n",
       "  0.03681352362036705,\n",
       "  0.03666991740465164,\n",
       "  0.03631455823779106,\n",
       "  0.03611858934164047,\n",
       "  0.03579263016581535,\n",
       "  0.0356891006231308,\n",
       "  0.03519444912672043,\n",
       "  0.035372983664274216,\n",
       "  0.034896090626716614,\n",
       "  0.034599464386701584,\n",
       "  0.03458399698138237,\n",
       "  0.034308213740587234,\n",
       "  0.03458008915185928,\n",
       "  0.033957112580537796,\n",
       "  0.03420272469520569,\n",
       "  0.03377291560173035,\n",
       "  0.03435410186648369,\n",
       "  0.03341996297240257,\n",
       "  0.033254146575927734,\n",
       "  0.033420708030462265,\n",
       "  0.033042460680007935,\n",
       "  0.0335419699549675,\n",
       "  0.03284173458814621,\n",
       "  0.0328514538705349,\n",
       "  0.03296709433197975,\n",
       "  0.03275001421570778,\n",
       "  0.032731663435697556,\n",
       "  0.03245707228779793,\n",
       "  0.033018819987773895,\n",
       "  0.03273606672883034,\n",
       "  0.033668402582407,\n",
       "  0.032233260571956635,\n",
       "  0.032280176877975464,\n",
       "  0.03223203867673874,\n",
       "  0.03234684467315674,\n",
       "  0.03190525993704796,\n",
       "  0.0318441241979599,\n",
       "  0.03193214163184166,\n",
       "  0.032328538596630096,\n",
       "  0.03200498968362808,\n",
       "  0.032556310296058655,\n",
       "  0.03165417164564133,\n",
       "  0.03209212049841881,\n",
       "  0.03146107494831085,\n",
       "  0.031411461532115936,\n",
       "  0.03139358013868332,\n",
       "  0.03132281452417374,\n",
       "  0.0312621183693409,\n",
       "  0.031943224370479584,\n",
       "  0.031931787729263306,\n",
       "  0.03194207325577736,\n",
       "  0.031448230147361755,\n",
       "  0.03116503916680813,\n",
       "  0.031491369009017944,\n",
       "  0.03115103207528591,\n",
       "  0.031152738258242607,\n",
       "  0.030970245599746704,\n",
       "  0.030981088057160378,\n",
       "  0.030897356569767,\n",
       "  0.031019818037748337,\n",
       "  0.03152761608362198,\n",
       "  0.031107159331440926,\n",
       "  0.030811157077550888,\n",
       "  0.03073747642338276,\n",
       "  0.030964169651269913,\n",
       "  0.030660754069685936,\n",
       "  0.03104613907635212,\n",
       "  0.030879922211170197,\n",
       "  0.031208841130137444,\n",
       "  0.03143481910228729,\n",
       "  0.03131946921348572,\n",
       "  0.03074372559785843],\n",
       " 'val_accuracy': [0.8988000154495239,\n",
       "  0.9696000218391418,\n",
       "  0.9721999764442444,\n",
       "  0.9735999703407288,\n",
       "  0.9747999906539917,\n",
       "  0.9760000109672546,\n",
       "  0.9769999980926514,\n",
       "  0.9783999919891357,\n",
       "  0.978600025177002,\n",
       "  0.9796000123023987,\n",
       "  0.9789999723434448,\n",
       "  0.9805999994277954,\n",
       "  0.980400025844574,\n",
       "  0.9818000197410583,\n",
       "  0.9815999865531921,\n",
       "  0.9814000129699707,\n",
       "  0.9832000136375427,\n",
       "  0.9833999872207642,\n",
       "  0.9832000136375427,\n",
       "  0.9837999939918518,\n",
       "  0.9837999939918518,\n",
       "  0.9846000075340271,\n",
       "  0.9850000143051147,\n",
       "  0.9833999872207642,\n",
       "  0.9837999939918518,\n",
       "  0.9851999878883362,\n",
       "  0.984000027179718,\n",
       "  0.9860000014305115,\n",
       "  0.9855999946594238,\n",
       "  0.9855999946594238,\n",
       "  0.9860000014305115,\n",
       "  0.98580002784729,\n",
       "  0.9861999750137329,\n",
       "  0.9865999817848206,\n",
       "  0.9865999817848206,\n",
       "  0.98580002784729,\n",
       "  0.9861999750137329,\n",
       "  0.9872000217437744,\n",
       "  0.9861999750137329,\n",
       "  0.9869999885559082,\n",
       "  0.9864000082015991,\n",
       "  0.9873999953269958,\n",
       "  0.9869999885559082,\n",
       "  0.9868000149726868,\n",
       "  0.9865999817848206,\n",
       "  0.9873999953269958,\n",
       "  0.9878000020980835,\n",
       "  0.9868000149726868,\n",
       "  0.9879999756813049,\n",
       "  0.9869999885559082,\n",
       "  0.9879999756813049,\n",
       "  0.9876000285148621,\n",
       "  0.9876000285148621,\n",
       "  0.9878000020980835,\n",
       "  0.9878000020980835,\n",
       "  0.9878000020980835,\n",
       "  0.9876000285148621,\n",
       "  0.9876000285148621,\n",
       "  0.9864000082015991,\n",
       "  0.9879999756813049,\n",
       "  0.9873999953269958,\n",
       "  0.9876000285148621,\n",
       "  0.9878000020980835,\n",
       "  0.9878000020980835,\n",
       "  0.9883999824523926,\n",
       "  0.9882000088691711,\n",
       "  0.9872000217437744,\n",
       "  0.9876000285148621,\n",
       "  0.9876000285148621,\n",
       "  0.9883999824523926,\n",
       "  0.9872000217437744,\n",
       "  0.9882000088691711,\n",
       "  0.9882000088691711,\n",
       "  0.9882000088691711,\n",
       "  0.9882000088691711,\n",
       "  0.9882000088691711,\n",
       "  0.9873999953269958,\n",
       "  0.9876000285148621,\n",
       "  0.9876000285148621,\n",
       "  0.9878000020980835,\n",
       "  0.9883999824523926,\n",
       "  0.9876000285148621,\n",
       "  0.9886000156402588,\n",
       "  0.9882000088691711,\n",
       "  0.9886000156402588,\n",
       "  0.9883999824523926,\n",
       "  0.9883999824523926,\n",
       "  0.9886000156402588,\n",
       "  0.9873999953269958,\n",
       "  0.9878000020980835,\n",
       "  0.9886000156402588,\n",
       "  0.9882000088691711,\n",
       "  0.9879999756813049,\n",
       "  0.9886000156402588,\n",
       "  0.9887999892234802,\n",
       "  0.9882000088691711,\n",
       "  0.9887999892234802,\n",
       "  0.9873999953269958,\n",
       "  0.9873999953269958,\n",
       "  0.9879999756813049]}"
      ]
     },
     "execution_count": 184,
     "metadata": {},
     "output_type": "execute_result"
    }
   ],
   "source": [
    "history.history"
   ]
  },
  {
   "cell_type": "markdown",
   "id": "9b7dd3ba",
   "metadata": {},
   "source": [
    "We can use the `history` property to obtain the score and loss of the training and validation sets."
   ]
  },
  {
   "cell_type": "code",
   "execution_count": 185,
   "id": "c9672ea3",
   "metadata": {},
   "outputs": [
    {
     "data": {
      "text/plain": [
       "<function matplotlib.pyplot.show(close=None, block=None)>"
      ]
     },
     "execution_count": 185,
     "metadata": {},
     "output_type": "execute_result"
    },
    {
     "data": {
      "image/png": "[encoded data removed]",
      "text/plain": [
       "<Figure size 800x500 with 1 Axes>"
      ]
     },
     "metadata": {},
     "output_type": "display_data"
    }
   ],
   "source": [
    "import pandas as pd\n",
    "\n",
    "pd.DataFrame(history.history).plot(figsize=(8, 5))\n",
    "plt.grid(True)\n",
    "plt.gca().set_ylim(0, 1)\n",
    "plt.show"
   ]
  },
  {
   "cell_type": "markdown",
   "id": "6edb15f7",
   "metadata": {},
   "source": [
    "We use the `evaluate` method to measure the performance of a given data set. Below we display the loss and accuracy of the test set.\n",
    "\n",
    "Both, the accuracy and the loss are similar to the validation set, which is a sign that we aren't overfitting the training data."
   ]
  },
  {
   "cell_type": "code",
   "execution_count": 186,
   "id": "8f8ad911",
   "metadata": {},
   "outputs": [
    {
     "name": "stdout",
     "output_type": "stream",
     "text": [
      "313/313 [==============================] - 0s 535us/step - loss: 0.0318 - accuracy: 0.9881\n"
     ]
    },
    {
     "data": {
      "text/plain": [
       "[0.031798988580703735, 0.988099992275238]"
      ]
     },
     "execution_count": 186,
     "metadata": {},
     "output_type": "execute_result"
    }
   ],
   "source": [
    "model.evaluate(X_test, y_test_bin)"
   ]
  },
  {
   "cell_type": "code",
   "execution_count": 187,
   "id": "4c7f21a3",
   "metadata": {},
   "outputs": [
    {
     "data": {
      "text/plain": [
       "9"
      ]
     },
     "execution_count": 187,
     "metadata": {},
     "output_type": "execute_result"
    }
   ],
   "source": [
    "y_ankle"
   ]
  },
  {
   "cell_type": "code",
   "execution_count": 188,
   "id": "f414f193",
   "metadata": {},
   "outputs": [
    {
     "data": {
      "text/plain": [
       "array([9, 2, 1, 1, 6, 1, 4, 6, 5, 7], dtype=uint8)"
      ]
     },
     "execution_count": 188,
     "metadata": {},
     "output_type": "execute_result"
    }
   ],
   "source": [
    "y_test[:10]"
   ]
  },
  {
   "cell_type": "code",
   "execution_count": 189,
   "id": "c79d0d8d",
   "metadata": {},
   "outputs": [
    {
     "data": {
      "text/plain": [
       "array([0, 1, 1, 1, 1, 1, 1, 1, 1, 1])"
      ]
     },
     "execution_count": 189,
     "metadata": {},
     "output_type": "execute_result"
    }
   ],
   "source": [
    "y_test_bin[:10]"
   ]
  },
  {
   "cell_type": "markdown",
   "id": "462e5156",
   "metadata": {},
   "source": [
    "The `predict` method returns the output of a forward step through the network with the given input. For this example, since we are using the `softmax` activation function; we get the probabilities to belong to each class."
   ]
  },
  {
   "cell_type": "code",
   "execution_count": 199,
   "id": "40eb816e",
   "metadata": {},
   "outputs": [
    {
     "name": "stdout",
     "output_type": "stream",
     "text": [
      "1/1 [==============================] - 0s 19ms/step\n"
     ]
    },
    {
     "data": {
      "text/plain": [
       "array([[0.33],\n",
       "       [1.  ],\n",
       "       [1.  ],\n",
       "       [1.  ],\n",
       "       [1.  ],\n",
       "       [1.  ],\n",
       "       [1.  ],\n",
       "       [1.  ],\n",
       "       [1.  ],\n",
       "       [1.  ]], dtype=float32)"
      ]
     },
     "execution_count": 199,
     "metadata": {},
     "output_type": "execute_result"
    }
   ],
   "source": [
    "X_new = X_test[:10]\n",
    "y_proba = model.predict(X_new)\n",
    "y_proba.round(2)"
   ]
  },
  {
   "cell_type": "code",
   "execution_count": 200,
   "id": "668aa2a1",
   "metadata": {},
   "outputs": [
    {
     "data": {
      "image/png": "[encoded data removed]",
      "text/plain": [
       "<Figure size 640x480 with 1 Axes>"
      ]
     },
     "metadata": {},
     "output_type": "display_data"
    }
   ],
   "source": [
    "plt.imshow(X_test[0], cmap=\"binary\")\n",
    "plt.axis(\"off\")\n",
    "plt.show()"
   ]
  },
  {
   "cell_type": "code",
   "execution_count": null,
   "id": "f81bc80f",
   "metadata": {},
   "outputs": [],
   "source": []
  },
  {
   "cell_type": "code",
   "execution_count": null,
   "id": "9b29c339",
   "metadata": {},
   "outputs": [],
   "source": []
  }
 ],
 "metadata": {
  "kernelspec": {
   "display_name": "Python 3 (ipykernel)",
   "language": "python",
   "name": "python3"
  },
  "language_info": {
   "codemirror_mode": {
    "name": "ipython",
    "version": 3
   },
   "file_extension": ".py",
   "mimetype": "text/x-python",
   "name": "python",
   "nbconvert_exporter": "python",
   "pygments_lexer": "ipython3",
   "version": "3.8.15"
  }
 },
 "nbformat": 4,
 "nbformat_minor": 5
}
