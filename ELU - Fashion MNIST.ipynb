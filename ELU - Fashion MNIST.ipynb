{
 "cells": [
  {
   "cell_type": "code",
   "execution_count": 1,
   "id": "8cf3be7d",
   "metadata": {},
   "outputs": [
    {
     "data": {
      "text/plain": [
       "'2.10.0'"
      ]
     },
     "execution_count": 1,
     "metadata": {},
     "output_type": "execute_result"
    }
   ],
   "source": [
    "import tensorflow as tf\n",
    "from tensorflow import keras\n",
    "tf.__version__"
   ]
  },
  {
   "cell_type": "code",
   "execution_count": 2,
   "id": "4c1ec241",
   "metadata": {},
   "outputs": [
    {
     "data": {
      "text/plain": [
       "'2.10.0'"
      ]
     },
     "execution_count": 2,
     "metadata": {},
     "output_type": "execute_result"
    }
   ],
   "source": [
    "keras.__version__"
   ]
  },
  {
   "cell_type": "markdown",
   "id": "db8d1c8b",
   "metadata": {},
   "source": [
    "## Download the Data\n",
    "\n",
    "For this example we will work with the \"Fashin MNIST\" dataset, composed of thousands of $28 \\times 28$ images."
   ]
  },
  {
   "cell_type": "code",
   "execution_count": 3,
   "id": "d53063b6",
   "metadata": {},
   "outputs": [],
   "source": [
    "fashion_mnist = keras.datasets.fashion_mnist\n",
    "(X_train_full, y_train_full), (X_test, y_test) = fashion_mnist.load_data()"
   ]
  },
  {
   "cell_type": "code",
   "execution_count": 4,
   "id": "2aac2bd1",
   "metadata": {},
   "outputs": [
    {
     "data": {
      "text/plain": [
       "(60000, 28, 28)"
      ]
     },
     "execution_count": 4,
     "metadata": {},
     "output_type": "execute_result"
    }
   ],
   "source": [
    "X_train_full.shape"
   ]
  },
  {
   "cell_type": "code",
   "execution_count": 5,
   "id": "3baa0642",
   "metadata": {},
   "outputs": [
    {
     "data": {
      "text/plain": [
       "(10000, 28, 28)"
      ]
     },
     "execution_count": 5,
     "metadata": {},
     "output_type": "execute_result"
    }
   ],
   "source": [
    "X_test.shape"
   ]
  },
  {
   "cell_type": "markdown",
   "id": "5f86f2ea",
   "metadata": {},
   "source": [
    "Let's visualize the first image of our training set, so we have a better idea of how the data looks like. "
   ]
  },
  {
   "cell_type": "code",
   "execution_count": 6,
   "id": "4f0c3484",
   "metadata": {},
   "outputs": [
    {
     "data": {
      "image/png": "[encoded data removed]",
      "text/plain": [
       "<Figure size 640x480 with 1 Axes>"
      ]
     },
     "metadata": {},
     "output_type": "display_data"
    }
   ],
   "source": [
    "import matplotlib as mlp\n",
    "import matplotlib.pyplot as plt\n",
    "\n",
    "sample_image = X_train_full[0]\n",
    "\n",
    "plt.imshow(sample_image, cmap=\"binary\")\n",
    "plt.axis(\"off\")\n",
    "plt.show()"
   ]
  },
  {
   "cell_type": "markdown",
   "id": "45f80502",
   "metadata": {},
   "source": [
    "## Define Trainining and Validation Sets\n",
    "\n",
    "Now let's scale the data by dividing by the maximum value (255), so all the values are in the $[0, 1]$ range.\n",
    "\n",
    "We will create a validation set from our training set, composed of the first 5000 thousand images, the rest will be used for training."
   ]
  },
  {
   "cell_type": "code",
   "execution_count": 7,
   "id": "537cb86a",
   "metadata": {},
   "outputs": [],
   "source": [
    "X_valid, X_train = X_train_full[:5000] / 255.0, X_train_full[5000:] / 255.0\n",
    "y_valid, y_train = y_train_full[:5000], y_train_full[5000:]\n",
    "X_test = X_test / 255.0"
   ]
  },
  {
   "cell_type": "code",
   "execution_count": 8,
   "id": "c41020a1",
   "metadata": {},
   "outputs": [
    {
     "name": "stdout",
     "output_type": "stream",
     "text": [
      "(55000, 28, 28)\n",
      "(5000, 28, 28)\n"
     ]
    }
   ],
   "source": [
    "print(X_train.shape)\n",
    "print(X_valid.shape)"
   ]
  },
  {
   "cell_type": "markdown",
   "id": "dca45535",
   "metadata": {},
   "source": [
    "Let's define the names of our classes/categories."
   ]
  },
  {
   "cell_type": "code",
   "execution_count": 9,
   "id": "e6ce9fcb",
   "metadata": {},
   "outputs": [],
   "source": [
    "class_names = [\"T-shirt/top\", \"Trouser\", \"Pullover\", \"Dress\", \n",
    "               \"Coat\", \"Sandal\", \"Shirt\", \"Sneaker\", \"Bag\", \"Ankle boot\"]"
   ]
  },
  {
   "cell_type": "code",
   "execution_count": 10,
   "id": "569aafcd",
   "metadata": {},
   "outputs": [
    {
     "data": {
      "text/plain": [
       "'Ankle boot'"
      ]
     },
     "execution_count": 10,
     "metadata": {},
     "output_type": "execute_result"
    }
   ],
   "source": [
    "class_names[y_train_full[0]]"
   ]
  },
  {
   "cell_type": "markdown",
   "id": "f4eb175b",
   "metadata": {},
   "source": [
    "## Create the  Model\n",
    "\n",
    "The input layer has 785 units, which represents the 28 x 28 pixels in the image. Let's define two hidden layers, with 300 and 100 neurons, respecitively. The output layer has 10 units, each representing a class; this output layer uses the `softmax`function to use a multinomial approach to handle multiple classes."
   ]
  },
  {
   "cell_type": "code",
   "execution_count": 11,
   "id": "610a592e",
   "metadata": {},
   "outputs": [
    {
     "name": "stdout",
     "output_type": "stream",
     "text": [
      "Model: \"sequential\"\n",
      "_________________________________________________________________\n",
      " Layer (type)                Output Shape              Param #   \n",
      "=================================================================\n",
      " input (Flatten)             (None, 784)               0         \n",
      "                                                                 \n",
      " hidden1 (Dense)             (None, 300)               235500    \n",
      "                                                                 \n",
      " hidden2 (Dense)             (None, 100)               30100     \n",
      "                                                                 \n",
      " output (Dense)              (None, 10)                1010      \n",
      "                                                                 \n",
      "=================================================================\n",
      "Total params: 266,610\n",
      "Trainable params: 266,610\n",
      "Non-trainable params: 0\n",
      "_________________________________________________________________\n"
     ]
    }
   ],
   "source": [
    "model = keras.models.Sequential([\n",
    "    keras.layers.Flatten(input_shape=[28, 28], name=\"input\"),\n",
    "    keras.layers.Dense(300, activation=\"elu\", kernel_initializer=\"he_normal\", name=\"hidden1\"),\n",
    "    keras.layers.Dense(100, activation=\"elu\", kernel_initializer=\"he_normal\", name=\"hidden2\"),\n",
    "    keras.layers.Dense(10, activation=\"softmax\", name=\"output\")\n",
    "])\n",
    "model.summary()\n"
   ]
  },
  {
   "cell_type": "markdown",
   "id": "2666836d",
   "metadata": {},
   "source": [
    "We can get an array of the layers in our network with the `layers` propery."
   ]
  },
  {
   "cell_type": "code",
   "execution_count": 12,
   "id": "2ef9f71b",
   "metadata": {},
   "outputs": [
    {
     "data": {
      "text/plain": [
       "[<keras.layers.reshaping.flatten.Flatten at 0x175ba1250>,\n",
       " <keras.layers.core.dense.Dense at 0x175ba1460>,\n",
       " <keras.layers.core.dense.Dense at 0x175ba14f0>,\n",
       " <keras.layers.core.dense.Dense at 0x175ba13d0>]"
      ]
     },
     "execution_count": 12,
     "metadata": {},
     "output_type": "execute_result"
    }
   ],
   "source": [
    "model.layers"
   ]
  },
  {
   "cell_type": "markdown",
   "id": "0dcb5dd7",
   "metadata": {},
   "source": [
    "We can get an especific layer by index, and access the properties of that layer."
   ]
  },
  {
   "cell_type": "code",
   "execution_count": 13,
   "id": "4880756d",
   "metadata": {},
   "outputs": [
    {
     "data": {
      "text/plain": [
       "'hidden1'"
      ]
     },
     "execution_count": 13,
     "metadata": {},
     "output_type": "execute_result"
    }
   ],
   "source": [
    "hidden1 = model.layers[1]\n",
    "hidden1.name"
   ]
  },
  {
   "cell_type": "markdown",
   "id": "e3baaf20",
   "metadata": {},
   "source": [
    "We also can get a layer by its name with the `get_layer` method."
   ]
  },
  {
   "cell_type": "code",
   "execution_count": 14,
   "id": "4218d259",
   "metadata": {},
   "outputs": [
    {
     "data": {
      "text/plain": [
       "True"
      ]
     },
     "execution_count": 14,
     "metadata": {},
     "output_type": "execute_result"
    }
   ],
   "source": [
    "model.get_layer(\"hidden1\") is hidden1"
   ]
  },
  {
   "cell_type": "markdown",
   "id": "26693938",
   "metadata": {},
   "source": [
    "The `get_weights` method returns the weight parameters and bias terms of a layer."
   ]
  },
  {
   "cell_type": "code",
   "execution_count": 15,
   "id": "48f0caf8",
   "metadata": {},
   "outputs": [
    {
     "data": {
      "text/plain": [
       "array([[-0.04396542, -0.08827149,  0.05759838, ..., -0.05145448,\n",
       "         0.07065058,  0.0816386 ],\n",
       "       [ 0.03408444,  0.02899954,  0.03275677, ..., -0.00653306,\n",
       "         0.02851175,  0.07409915],\n",
       "       [-0.02346403, -0.06020518,  0.00028541, ..., -0.02028763,\n",
       "         0.02115271,  0.00734696],\n",
       "       ...,\n",
       "       [-0.07246459,  0.07841251, -0.02746085, ...,  0.00848408,\n",
       "         0.0367456 ,  0.01608934],\n",
       "       [ 0.06746966,  0.02942702,  0.0291285 , ..., -0.06629422,\n",
       "         0.02790489, -0.11107918],\n",
       "       [-0.09563631,  0.06010739,  0.01565216, ..., -0.00433768,\n",
       "         0.09096233, -0.06878874]], dtype=float32)"
      ]
     },
     "execution_count": 15,
     "metadata": {},
     "output_type": "execute_result"
    }
   ],
   "source": [
    "weights, biases = hidden1.get_weights()\n",
    "weights"
   ]
  },
  {
   "cell_type": "code",
   "execution_count": 16,
   "id": "87aef5ac",
   "metadata": {},
   "outputs": [
    {
     "name": "stdout",
     "output_type": "stream",
     "text": [
      "(784, 300)\n",
      "(300,)\n"
     ]
    }
   ],
   "source": [
    "print(weights.shape)\n",
    "print(biases.shape)"
   ]
  },
  {
   "cell_type": "markdown",
   "id": "79f61f7e",
   "metadata": {},
   "source": [
    "## Compile the Model\n",
    "\n",
    "In this step we specify the loss function, optimizers, and metrics for our network. For this example, we are using the categorical crossentroy loss function, since we are dealing with a multiclass categorical target variable. The `sgd` refers to the \"Stochastic Gradiend Descent\" algorithm, and we will use the accuracy for measuring the performance of our network. "
   ]
  },
  {
   "cell_type": "code",
   "execution_count": 17,
   "id": "1ecb200e",
   "metadata": {},
   "outputs": [],
   "source": [
    "model.compile(loss=\"sparse_categorical_crossentropy\",\n",
    "              optimizer=\"sgd\",\n",
    "              metrics=[\"accuracy\"])"
   ]
  },
  {
   "cell_type": "markdown",
   "id": "b877884d",
   "metadata": {},
   "source": [
    "## Adding Callbacks\n",
    "\n",
    "Callback are helpful to execute periodic specific tasks, for example, at the end of one epoch. In this case, we are adding an \"Early Stopping\" callback, indicating that if the validation score doesn't improve in 10 epochs, the training will stop and we will get the best solution computed."
   ]
  },
  {
   "cell_type": "code",
   "execution_count": 18,
   "id": "a6ab0e72",
   "metadata": {},
   "outputs": [],
   "source": [
    "early_stopping_cb = keras.callbacks.EarlyStopping(patience=10, restore_best_weights=True)"
   ]
  },
  {
   "cell_type": "markdown",
   "id": "6c739548",
   "metadata": {},
   "source": [
    "You can also define your own callbacks, here we are defining a callback that prints the ration between the validation score and the training score."
   ]
  },
  {
   "cell_type": "code",
   "execution_count": 19,
   "id": "d5ba10e0",
   "metadata": {},
   "outputs": [],
   "source": [
    "class MyCallback(keras.callbacks.Callback):\n",
    "    def on_epoch_end(self, epoch, logs):\n",
    "        print(f\"\\nval/train: {logs['val_loss'] / logs['loss']}\")"
   ]
  },
  {
   "cell_type": "markdown",
   "id": "e6cef0ff",
   "metadata": {},
   "source": [
    "## Training and Evaluating\n",
    "\n",
    "To train the network we need to specify the training and validation sets, as well as the number of epochs, callbacks ,and all the necessary parameters."
   ]
  },
  {
   "cell_type": "code",
   "execution_count": 20,
   "id": "9409a00b",
   "metadata": {},
   "outputs": [
    {
     "name": "stdout",
     "output_type": "stream",
     "text": [
      "Epoch 1/100\n",
      "  50/1719 [..............................] - ETA: 1s - loss: 1.7011 - accuracy: 0.4350  "
     ]
    },
    {
     "name": "stderr",
     "output_type": "stream",
     "text": [
      "2023-02-06 15:12:08.320802: W tensorflow/core/platform/profile_utils/cpu_utils.cc:128] Failed to get CPU frequency: 0 Hz\n"
     ]
    },
    {
     "name": "stdout",
     "output_type": "stream",
     "text": [
      "1719/1719 [==============================] - ETA: 0s - loss: 0.6372 - accuracy: 0.7823\n",
      "val/train: 0.8041150150061667\n",
      "1719/1719 [==============================] - 2s 1ms/step - loss: 0.6372 - accuracy: 0.7823 - val_loss: 0.5124 - val_accuracy: 0.8140\n",
      "Epoch 2/100\n",
      "1672/1719 [============================>.] - ETA: 0s - loss: 0.4718 - accuracy: 0.8328\n",
      "val/train: 0.9212310463450071\n",
      "1719/1719 [==============================] - 2s 1ms/step - loss: 0.4713 - accuracy: 0.8331 - val_loss: 0.4342 - val_accuracy: 0.8502\n",
      "Epoch 3/100\n",
      "1717/1719 [============================>.] - ETA: 0s - loss: 0.4374 - accuracy: 0.8445\n",
      "val/train: 0.9684584652973939\n",
      "1719/1719 [==============================] - 2s 1ms/step - loss: 0.4373 - accuracy: 0.8445 - val_loss: 0.4235 - val_accuracy: 0.8550\n",
      "Epoch 4/100\n",
      "1713/1719 [============================>.] - ETA: 0s - loss: 0.4156 - accuracy: 0.8523\n",
      "val/train: 0.9843561449698514\n",
      "1719/1719 [==============================] - 2s 1ms/step - loss: 0.4156 - accuracy: 0.8523 - val_loss: 0.4091 - val_accuracy: 0.8582\n",
      "Epoch 5/100\n",
      "1695/1719 [============================>.] - ETA: 0s - loss: 0.4010 - accuracy: 0.8571\n",
      "val/train: 0.9571375490605593\n",
      "1719/1719 [==============================] - 2s 1ms/step - loss: 0.4005 - accuracy: 0.8575 - val_loss: 0.3833 - val_accuracy: 0.8652\n",
      "Epoch 6/100\n",
      "1711/1719 [============================>.] - ETA: 0s - loss: 0.3871 - accuracy: 0.8626\n",
      "val/train: 1.042639983584222\n",
      "1719/1719 [==============================] - 2s 1ms/step - loss: 0.3871 - accuracy: 0.8627 - val_loss: 0.4036 - val_accuracy: 0.8578\n",
      "Epoch 7/100\n",
      "1695/1719 [============================>.] - ETA: 0s - loss: 0.3762 - accuracy: 0.8658\n",
      "val/train: 1.0125933207872178\n",
      "1719/1719 [==============================] - 2s 1ms/step - loss: 0.3759 - accuracy: 0.8659 - val_loss: 0.3806 - val_accuracy: 0.8650\n",
      "Epoch 8/100\n",
      "1706/1719 [============================>.] - ETA: 0s - loss: 0.3690 - accuracy: 0.8675\n",
      "val/train: 1.0094866588478304\n",
      "1719/1719 [==============================] - 2s 1ms/step - loss: 0.3686 - accuracy: 0.8676 - val_loss: 0.3721 - val_accuracy: 0.8650\n",
      "Epoch 9/100\n",
      "1703/1719 [============================>.] - ETA: 0s - loss: 0.3603 - accuracy: 0.8700\n",
      "val/train: 1.0424044158718746\n",
      "1719/1719 [==============================] - 2s 1ms/step - loss: 0.3599 - accuracy: 0.8703 - val_loss: 0.3752 - val_accuracy: 0.8676\n",
      "Epoch 10/100\n",
      "1710/1719 [============================>.] - ETA: 0s - loss: 0.3526 - accuracy: 0.8731\n",
      "val/train: 0.998003572998025\n",
      "1719/1719 [==============================] - 2s 1ms/step - loss: 0.3529 - accuracy: 0.8730 - val_loss: 0.3522 - val_accuracy: 0.8710\n",
      "Epoch 11/100\n",
      "1692/1719 [============================>.] - ETA: 0s - loss: 0.3465 - accuracy: 0.8756\n",
      "val/train: 1.0600436743334674\n",
      "1719/1719 [==============================] - 2s 1ms/step - loss: 0.3457 - accuracy: 0.8758 - val_loss: 0.3665 - val_accuracy: 0.8648\n",
      "Epoch 12/100\n",
      "1714/1719 [============================>.] - ETA: 0s - loss: 0.3399 - accuracy: 0.8776\n",
      "val/train: 1.0470858428646526\n",
      "1719/1719 [==============================] - 2s 1ms/step - loss: 0.3396 - accuracy: 0.8777 - val_loss: 0.3556 - val_accuracy: 0.8746\n",
      "Epoch 13/100\n",
      "1688/1719 [============================>.] - ETA: 0s - loss: 0.3342 - accuracy: 0.8780\n",
      "val/train: 1.0333459007791965\n",
      "1719/1719 [==============================] - 2s 1ms/step - loss: 0.3338 - accuracy: 0.8782 - val_loss: 0.3449 - val_accuracy: 0.8720\n",
      "Epoch 14/100\n",
      "1693/1719 [============================>.] - ETA: 0s - loss: 0.3284 - accuracy: 0.8807\n",
      "val/train: 1.1131844658187868\n",
      "1719/1719 [==============================] - 2s 1ms/step - loss: 0.3288 - accuracy: 0.8806 - val_loss: 0.3660 - val_accuracy: 0.8690\n",
      "Epoch 15/100\n",
      "1688/1719 [============================>.] - ETA: 0s - loss: 0.3229 - accuracy: 0.8830\n",
      "val/train: 1.0358298905336016\n",
      "1719/1719 [==============================] - 2s 1ms/step - loss: 0.3228 - accuracy: 0.8830 - val_loss: 0.3344 - val_accuracy: 0.8812\n",
      "Epoch 16/100\n",
      "1693/1719 [============================>.] - ETA: 0s - loss: 0.3175 - accuracy: 0.8850\n",
      "val/train: 1.0491186954494596\n",
      "1719/1719 [==============================] - 2s 1ms/step - loss: 0.3178 - accuracy: 0.8851 - val_loss: 0.3334 - val_accuracy: 0.8756\n",
      "Epoch 17/100\n",
      "1706/1719 [============================>.] - ETA: 0s - loss: 0.3132 - accuracy: 0.8860\n",
      "val/train: 1.051582898663187\n",
      "1719/1719 [==============================] - 2s 1ms/step - loss: 0.3131 - accuracy: 0.8861 - val_loss: 0.3292 - val_accuracy: 0.8770\n",
      "Epoch 18/100\n",
      "1687/1719 [============================>.] - ETA: 0s - loss: 0.3084 - accuracy: 0.8882\n",
      "val/train: 1.1083049675232028\n",
      "1719/1719 [==============================] - 2s 1ms/step - loss: 0.3081 - accuracy: 0.8882 - val_loss: 0.3415 - val_accuracy: 0.8774\n",
      "Epoch 19/100\n",
      "1690/1719 [============================>.] - ETA: 0s - loss: 0.3045 - accuracy: 0.8889\n",
      "val/train: 1.0656720860828195\n",
      "1719/1719 [==============================] - 2s 1ms/step - loss: 0.3046 - accuracy: 0.8888 - val_loss: 0.3246 - val_accuracy: 0.8792\n",
      "Epoch 20/100\n",
      "1674/1719 [============================>.] - ETA: 0s - loss: 0.2995 - accuracy: 0.8914\n",
      "val/train: 1.112477727924253\n",
      "1719/1719 [==============================] - 2s 1ms/step - loss: 0.2994 - accuracy: 0.8913 - val_loss: 0.3331 - val_accuracy: 0.8774\n",
      "Epoch 21/100\n",
      "1686/1719 [============================>.] - ETA: 0s - loss: 0.2965 - accuracy: 0.8926\n",
      "val/train: 1.2525181930418154\n",
      "1719/1719 [==============================] - 2s 1ms/step - loss: 0.2962 - accuracy: 0.8925 - val_loss: 0.3710 - val_accuracy: 0.8648\n",
      "Epoch 22/100\n",
      "1682/1719 [============================>.] - ETA: 0s - loss: 0.2930 - accuracy: 0.8927\n",
      "val/train: 1.1132837910722535\n",
      "1719/1719 [==============================] - 2s 1ms/step - loss: 0.2927 - accuracy: 0.8927 - val_loss: 0.3259 - val_accuracy: 0.8852\n",
      "Epoch 23/100\n",
      "1707/1719 [============================>.] - ETA: 0s - loss: 0.2888 - accuracy: 0.8953\n",
      "val/train: 1.1253381854759454\n",
      "1719/1719 [==============================] - 2s 1ms/step - loss: 0.2887 - accuracy: 0.8953 - val_loss: 0.3249 - val_accuracy: 0.8854\n",
      "Epoch 24/100\n",
      "1686/1719 [============================>.] - ETA: 0s - loss: 0.2846 - accuracy: 0.8968\n",
      "val/train: 1.134604847487407\n",
      "1719/1719 [==============================] - 2s 1ms/step - loss: 0.2851 - accuracy: 0.8965 - val_loss: 0.3234 - val_accuracy: 0.8804\n",
      "Epoch 25/100\n",
      "1686/1719 [============================>.] - ETA: 0s - loss: 0.2818 - accuracy: 0.8979\n",
      "val/train: 1.1333212237024997\n",
      "1719/1719 [==============================] - 2s 1ms/step - loss: 0.2820 - accuracy: 0.8977 - val_loss: 0.3196 - val_accuracy: 0.8858\n",
      "Epoch 26/100\n",
      "1706/1719 [============================>.] - ETA: 0s - loss: 0.2774 - accuracy: 0.8990\n",
      "val/train: 1.1834115623495027\n",
      "1719/1719 [==============================] - 2s 1ms/step - loss: 0.2776 - accuracy: 0.8990 - val_loss: 0.3285 - val_accuracy: 0.8834\n",
      "Epoch 27/100\n",
      "1704/1719 [============================>.] - ETA: 0s - loss: 0.2752 - accuracy: 0.8994\n",
      "val/train: 1.1565426309983775\n",
      "1719/1719 [==============================] - 2s 1ms/step - loss: 0.2754 - accuracy: 0.8993 - val_loss: 0.3185 - val_accuracy: 0.8840\n",
      "Epoch 28/100\n",
      "1681/1719 [============================>.] - ETA: 0s - loss: 0.2729 - accuracy: 0.9003\n",
      "val/train: 1.2374223903939536\n",
      "1719/1719 [==============================] - 2s 1ms/step - loss: 0.2719 - accuracy: 0.9006 - val_loss: 0.3364 - val_accuracy: 0.8752\n",
      "Epoch 29/100\n",
      "1708/1719 [============================>.] - ETA: 0s - loss: 0.2685 - accuracy: 0.9012\n",
      "val/train: 1.1923716858550744\n",
      "1719/1719 [==============================] - 2s 1ms/step - loss: 0.2687 - accuracy: 0.9013 - val_loss: 0.3203 - val_accuracy: 0.8866\n",
      "Epoch 30/100\n",
      "1704/1719 [============================>.] - ETA: 0s - loss: 0.2660 - accuracy: 0.9037\n",
      "val/train: 1.168777080164001\n",
      "1719/1719 [==============================] - 2s 1ms/step - loss: 0.2663 - accuracy: 0.9035 - val_loss: 0.3112 - val_accuracy: 0.8852\n",
      "Epoch 31/100\n",
      "1691/1719 [============================>.] - ETA: 0s - loss: 0.2639 - accuracy: 0.9040\n",
      "val/train: 1.21002455253341\n",
      "1719/1719 [==============================] - 2s 1ms/step - loss: 0.2639 - accuracy: 0.9040 - val_loss: 0.3193 - val_accuracy: 0.8856\n",
      "Epoch 32/100\n",
      "1685/1719 [============================>.] - ETA: 0s - loss: 0.2613 - accuracy: 0.9048\n",
      "val/train: 1.2106412987188848\n",
      "1719/1719 [==============================] - 2s 1ms/step - loss: 0.2606 - accuracy: 0.9052 - val_loss: 0.3155 - val_accuracy: 0.8808\n",
      "Epoch 33/100\n",
      "1681/1719 [============================>.] - ETA: 0s - loss: 0.2582 - accuracy: 0.9058\n",
      "val/train: 1.1859318986605678\n",
      "1719/1719 [==============================] - 2s 1ms/step - loss: 0.2586 - accuracy: 0.9056 - val_loss: 0.3067 - val_accuracy: 0.8886\n",
      "Epoch 34/100\n",
      "1691/1719 [============================>.] - ETA: 0s - loss: 0.2557 - accuracy: 0.9068\n",
      "val/train: 1.2006452084153425\n",
      "1719/1719 [==============================] - 2s 1ms/step - loss: 0.2558 - accuracy: 0.9067 - val_loss: 0.3071 - val_accuracy: 0.8902\n",
      "Epoch 35/100\n",
      "1705/1719 [============================>.] - ETA: 0s - loss: 0.2529 - accuracy: 0.9080\n",
      "val/train: 1.197954713622627\n",
      "1719/1719 [==============================] - 2s 1ms/step - loss: 0.2526 - accuracy: 0.9081 - val_loss: 0.3026 - val_accuracy: 0.8846\n",
      "Epoch 36/100\n",
      "1706/1719 [============================>.] - ETA: 0s - loss: 0.2496 - accuracy: 0.9100\n",
      "val/train: 1.2403700379190272\n",
      "1719/1719 [==============================] - 2s 1ms/step - loss: 0.2495 - accuracy: 0.9101 - val_loss: 0.3095 - val_accuracy: 0.8886\n",
      "Epoch 37/100\n",
      "1671/1719 [============================>.] - ETA: 0s - loss: 0.2472 - accuracy: 0.9112\n",
      "val/train: 1.2987276241960217\n",
      "1719/1719 [==============================] - 2s 1ms/step - loss: 0.2473 - accuracy: 0.9111 - val_loss: 0.3212 - val_accuracy: 0.8816\n",
      "Epoch 38/100\n",
      "1678/1719 [============================>.] - ETA: 0s - loss: 0.2447 - accuracy: 0.9113\n",
      "val/train: 1.2541571684859871\n",
      "1719/1719 [==============================] - 2s 1ms/step - loss: 0.2449 - accuracy: 0.9112 - val_loss: 0.3071 - val_accuracy: 0.8858\n",
      "Epoch 39/100\n",
      "1691/1719 [============================>.] - ETA: 0s - loss: 0.2435 - accuracy: 0.9119\n",
      "val/train: 1.2268457298142181\n",
      "1719/1719 [==============================] - 2s 1ms/step - loss: 0.2425 - accuracy: 0.9122 - val_loss: 0.2975 - val_accuracy: 0.8902\n",
      "Epoch 40/100\n",
      "1690/1719 [============================>.] - ETA: 0s - loss: 0.2399 - accuracy: 0.9141\n",
      "val/train: 1.2644984783316844\n",
      "1719/1719 [==============================] - 2s 1ms/step - loss: 0.2398 - accuracy: 0.9140 - val_loss: 0.3032 - val_accuracy: 0.8916\n",
      "Epoch 41/100\n",
      "1715/1719 [============================>.] - ETA: 0s - loss: 0.2387 - accuracy: 0.9130\n",
      "val/train: 1.2851671336358161\n",
      "1719/1719 [==============================] - 2s 1ms/step - loss: 0.2387 - accuracy: 0.9129 - val_loss: 0.3068 - val_accuracy: 0.8862\n",
      "Epoch 42/100\n",
      "1682/1719 [============================>.] - ETA: 0s - loss: 0.2358 - accuracy: 0.9147\n",
      "val/train: 1.3002147699303899\n",
      "1719/1719 [==============================] - 2s 1ms/step - loss: 0.2358 - accuracy: 0.9149 - val_loss: 0.3066 - val_accuracy: 0.8818\n",
      "Epoch 43/100\n",
      "1693/1719 [============================>.] - ETA: 0s - loss: 0.2338 - accuracy: 0.9158\n",
      "val/train: 1.3474690837120449\n",
      "1719/1719 [==============================] - 2s 1ms/step - loss: 0.2340 - accuracy: 0.9157 - val_loss: 0.3152 - val_accuracy: 0.8828\n",
      "Epoch 44/100\n",
      "1673/1719 [============================>.] - ETA: 0s - loss: 0.2315 - accuracy: 0.9163\n",
      "val/train: 1.296868502620452\n",
      "1719/1719 [==============================] - 2s 1ms/step - loss: 0.2313 - accuracy: 0.9165 - val_loss: 0.3000 - val_accuracy: 0.8894\n",
      "Epoch 45/100\n",
      "1707/1719 [============================>.] - ETA: 0s - loss: 0.2294 - accuracy: 0.9168\n",
      "val/train: 1.28467673316399\n",
      "1719/1719 [==============================] - 2s 1ms/step - loss: 0.2293 - accuracy: 0.9169 - val_loss: 0.2945 - val_accuracy: 0.8952\n",
      "Epoch 46/100\n",
      "1695/1719 [============================>.] - ETA: 0s - loss: 0.2281 - accuracy: 0.9169\n",
      "val/train: 1.2761939675038072\n",
      "1719/1719 [==============================] - 2s 1ms/step - loss: 0.2279 - accuracy: 0.9170 - val_loss: 0.2908 - val_accuracy: 0.8926\n",
      "Epoch 47/100\n",
      "1671/1719 [============================>.] - ETA: 0s - loss: 0.2255 - accuracy: 0.9181\n",
      "val/train: 1.470285989297077\n",
      "1719/1719 [==============================] - 2s 1ms/step - loss: 0.2250 - accuracy: 0.9183 - val_loss: 0.3308 - val_accuracy: 0.8792\n",
      "Epoch 48/100\n",
      "1695/1719 [============================>.] - ETA: 0s - loss: 0.2238 - accuracy: 0.9179\n",
      "val/train: 1.3375115905443802\n",
      "1719/1719 [==============================] - 2s 1ms/step - loss: 0.2237 - accuracy: 0.9181 - val_loss: 0.2992 - val_accuracy: 0.8902\n",
      "Epoch 49/100\n",
      "1698/1719 [============================>.] - ETA: 0s - loss: 0.2212 - accuracy: 0.9203\n",
      "val/train: 1.3479628216191546\n",
      "1719/1719 [==============================] - 2s 1ms/step - loss: 0.2212 - accuracy: 0.9202 - val_loss: 0.2982 - val_accuracy: 0.8878\n",
      "Epoch 50/100\n",
      "1697/1719 [============================>.] - ETA: 0s - loss: 0.2200 - accuracy: 0.9198\n",
      "val/train: 1.3451272565933148\n",
      "1719/1719 [==============================] - 2s 1ms/step - loss: 0.2198 - accuracy: 0.9199 - val_loss: 0.2957 - val_accuracy: 0.8926\n",
      "Epoch 51/100\n",
      "1672/1719 [============================>.] - ETA: 0s - loss: 0.2169 - accuracy: 0.9212\n",
      "val/train: 1.3922455257758823\n",
      "1719/1719 [==============================] - 2s 1ms/step - loss: 0.2168 - accuracy: 0.9211 - val_loss: 0.3019 - val_accuracy: 0.8892\n",
      "Epoch 52/100\n",
      "1691/1719 [============================>.] - ETA: 0s - loss: 0.2166 - accuracy: 0.9218\n",
      "val/train: 1.4008996120278272\n",
      "1719/1719 [==============================] - 2s 1ms/step - loss: 0.2160 - accuracy: 0.9220 - val_loss: 0.3026 - val_accuracy: 0.8896\n",
      "Epoch 53/100\n",
      "1682/1719 [============================>.] - ETA: 0s - loss: 0.2128 - accuracy: 0.9225\n",
      "val/train: 1.493810744577053\n",
      "1719/1719 [==============================] - 2s 1ms/step - loss: 0.2132 - accuracy: 0.9224 - val_loss: 0.3184 - val_accuracy: 0.8852\n",
      "Epoch 54/100\n",
      "1678/1719 [============================>.] - ETA: 0s - loss: 0.2118 - accuracy: 0.9226\n",
      "val/train: 1.4072991302478466\n",
      "1719/1719 [==============================] - 2s 1ms/step - loss: 0.2113 - accuracy: 0.9229 - val_loss: 0.2973 - val_accuracy: 0.8902\n",
      "Epoch 55/100\n",
      "1697/1719 [============================>.] - ETA: 0s - loss: 0.2089 - accuracy: 0.9241\n",
      "val/train: 1.4261369238683201\n",
      "1719/1719 [==============================] - 2s 1ms/step - loss: 0.2089 - accuracy: 0.9243 - val_loss: 0.2979 - val_accuracy: 0.8908\n",
      "Epoch 56/100\n",
      "1683/1719 [============================>.] - ETA: 0s - loss: 0.2070 - accuracy: 0.9257\n",
      "val/train: 1.4172050040320818\n",
      "1719/1719 [==============================] - 2s 1ms/step - loss: 0.2068 - accuracy: 0.9257 - val_loss: 0.2931 - val_accuracy: 0.8908\n"
     ]
    }
   ],
   "source": [
    "history = model.fit(X_train, \n",
    "                    y_train, \n",
    "                    epochs=100, \n",
    "                    validation_data=(X_valid, y_valid),\n",
    "                    callbacks=[early_stopping_cb, MyCallback()]\n",
    "                   )"
   ]
  },
  {
   "cell_type": "markdown",
   "id": "b537a308",
   "metadata": {},
   "source": [
    "With the `epoch` property we get a list with all the epochs that were completed. "
   ]
  },
  {
   "cell_type": "code",
   "execution_count": 21,
   "id": "ed64ae54",
   "metadata": {},
   "outputs": [
    {
     "data": {
      "text/plain": [
       "56"
      ]
     },
     "execution_count": 21,
     "metadata": {},
     "output_type": "execute_result"
    }
   ],
   "source": [
    "len(history.epoch)"
   ]
  },
  {
   "cell_type": "markdown",
   "id": "4472128b",
   "metadata": {},
   "source": [
    "The `steps` parameter refers to the number number of steps to complete an epoch, `batch_size * steps = n`. By default the batch size is 32."
   ]
  },
  {
   "cell_type": "code",
   "execution_count": 22,
   "id": "acb39dbf",
   "metadata": {},
   "outputs": [
    {
     "data": {
      "text/plain": [
       "{'verbose': 1, 'epochs': 100, 'steps': 1719}"
      ]
     },
     "execution_count": 22,
     "metadata": {},
     "output_type": "execute_result"
    }
   ],
   "source": [
    "history.params"
   ]
  },
  {
   "cell_type": "markdown",
   "id": "9b7dd3ba",
   "metadata": {},
   "source": [
    "We can use the `history` property to obtain the score and loss of the training and validation sets."
   ]
  },
  {
   "cell_type": "code",
   "execution_count": 23,
   "id": "c9672ea3",
   "metadata": {},
   "outputs": [
    {
     "data": {
      "text/plain": [
       "<function matplotlib.pyplot.show(close=None, block=None)>"
      ]
     },
     "execution_count": 23,
     "metadata": {},
     "output_type": "execute_result"
    },
    {
     "data": {
      "image/png": "[encoded data removed]",
      "text/plain": [
       "<Figure size 800x500 with 1 Axes>"
      ]
     },
     "metadata": {},
     "output_type": "display_data"
    }
   ],
   "source": [
    "import pandas as pd\n",
    "\n",
    "pd.DataFrame(history.history).plot(figsize=(8, 5))\n",
    "plt.grid(True)\n",
    "plt.gca().set_ylim(0, 1)\n",
    "plt.show"
   ]
  },
  {
   "cell_type": "markdown",
   "id": "6edb15f7",
   "metadata": {},
   "source": [
    "We use the `evaluate` method to measure the performance of a given data set. Below we display the loss and accuracy of the test set.\n",
    "\n",
    "Both, the accuracy and the loss are similar to the validation set, which is a sign that we aren't overfitting the training data."
   ]
  },
  {
   "cell_type": "code",
   "execution_count": 24,
   "id": "8f8ad911",
   "metadata": {},
   "outputs": [
    {
     "name": "stdout",
     "output_type": "stream",
     "text": [
      "313/313 [==============================] - 0s 655us/step - loss: 0.3269 - accuracy: 0.8816\n"
     ]
    },
    {
     "data": {
      "text/plain": [
       "[0.3268720209598541, 0.881600022315979]"
      ]
     },
     "execution_count": 24,
     "metadata": {},
     "output_type": "execute_result"
    }
   ],
   "source": [
    "model.evaluate(X_test, y_test)"
   ]
  },
  {
   "cell_type": "markdown",
   "id": "462e5156",
   "metadata": {},
   "source": [
    "The `predict` method returns the output of a forward step through the network with the given input. For this example, since we are using the `softmax` activation function; we get the probabilities to belong to each class."
   ]
  },
  {
   "cell_type": "code",
   "execution_count": 25,
   "id": "40eb816e",
   "metadata": {},
   "outputs": [
    {
     "name": "stdout",
     "output_type": "stream",
     "text": [
      "1/1 [==============================] - 0s 36ms/step\n"
     ]
    },
    {
     "data": {
      "text/plain": [
       "array([[0.  , 0.  , 0.  , 0.  , 0.  , 0.  , 0.  , 0.01, 0.  , 0.99],\n",
       "       [0.  , 0.  , 1.  , 0.  , 0.  , 0.  , 0.  , 0.  , 0.  , 0.  ],\n",
       "       [0.  , 1.  , 0.  , 0.  , 0.  , 0.  , 0.  , 0.  , 0.  , 0.  ],\n",
       "       [0.  , 1.  , 0.  , 0.  , 0.  , 0.  , 0.  , 0.  , 0.  , 0.  ],\n",
       "       [0.12, 0.  , 0.03, 0.  , 0.01, 0.  , 0.84, 0.  , 0.  , 0.  ]],\n",
       "      dtype=float32)"
      ]
     },
     "execution_count": 25,
     "metadata": {},
     "output_type": "execute_result"
    }
   ],
   "source": [
    "X_new = X_test[:5]\n",
    "y_proba = model.predict(X_new)\n",
    "y_proba.round(2)"
   ]
  },
  {
   "cell_type": "markdown",
   "id": "88537c84",
   "metadata": {},
   "source": [
    "Getting the class with the highest probability, we obtain the following."
   ]
  },
  {
   "cell_type": "code",
   "execution_count": 30,
   "id": "578a0297",
   "metadata": {},
   "outputs": [
    {
     "data": {
      "text/plain": [
       "array([9, 2, 1, 1, 6])"
      ]
     },
     "execution_count": 30,
     "metadata": {},
     "output_type": "execute_result"
    }
   ],
   "source": [
    "import numpy as np\n",
    "\n",
    "y_pred =np.argmax(y_proba, axis=1)\n",
    "y_pred"
   ]
  },
  {
   "cell_type": "code",
   "execution_count": 27,
   "id": "82cc5ba1",
   "metadata": {},
   "outputs": [
    {
     "data": {
      "text/plain": [
       "array(['Ankle boot', 'Pullover', 'Trouser', 'Trouser', 'Shirt'],\n",
       "      dtype='<U11')"
      ]
     },
     "execution_count": 27,
     "metadata": {},
     "output_type": "execute_result"
    }
   ],
   "source": [
    "np.array(class_names)[y_pred]"
   ]
  },
  {
   "cell_type": "markdown",
   "id": "2721defa",
   "metadata": {},
   "source": [
    "The results are identical to the actual values. "
   ]
  },
  {
   "cell_type": "code",
   "execution_count": 29,
   "id": "3920eab4",
   "metadata": {},
   "outputs": [
    {
     "data": {
      "text/plain": [
       "array([9, 2, 1, 1, 6], dtype=uint8)"
      ]
     },
     "execution_count": 29,
     "metadata": {},
     "output_type": "execute_result"
    }
   ],
   "source": [
    "y_new = y_test[:5]\n",
    "y_new"
   ]
  },
  {
   "cell_type": "code",
   "execution_count": null,
   "id": "f81bc80f",
   "metadata": {},
   "outputs": [],
   "source": []
  },
  {
   "cell_type": "code",
   "execution_count": null,
   "id": "9b29c339",
   "metadata": {},
   "outputs": [],
   "source": []
  }
 ],
 "metadata": {
  "kernelspec": {
   "display_name": "Python 3 (ipykernel)",
   "language": "python",
   "name": "python3"
  },
  "language_info": {
   "codemirror_mode": {
    "name": "ipython",
    "version": 3
   },
   "file_extension": ".py",
   "mimetype": "text/x-python",
   "name": "python",
   "nbconvert_exporter": "python",
   "pygments_lexer": "ipython3",
   "version": "3.8.15"
  }
 },
 "nbformat": 4,
 "nbformat_minor": 5
}
