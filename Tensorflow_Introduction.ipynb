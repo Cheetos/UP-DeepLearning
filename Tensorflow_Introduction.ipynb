{
 "cells": [
  {
   "cell_type": "code",
   "execution_count": 2,
   "id": "50504a8f",
   "metadata": {},
   "outputs": [],
   "source": [
    "# Python ≥3.5 is required\n",
    "import sys\n",
    "assert sys.version_info >= (3, 5)\n",
    "\n",
    "# Scikit-Learn ≥0.20 is required\n",
    "import sklearn\n",
    "assert sklearn.__version__ >= \"0.20\"\n",
    "\n",
    "try:\n",
    "    # %tensorflow_version only exists in Colab.\n",
    "    %tensorflow_version 2.x\n",
    "except Exception:\n",
    "    pass\n",
    "\n",
    "# TensorFlow ≥2.4 is required in this notebook\n",
    "# Earlier 2.x versions will mostly work the same, but with a few bugs\n",
    "import tensorflow as tf\n",
    "from tensorflow import keras\n",
    "\n",
    "# Common imports\n",
    "import numpy as np\n",
    "import os\n",
    "\n",
    "# to make this notebook's output stable across runs\n",
    "np.random.seed(23)\n",
    "tf.random.set_seed(23)\n",
    "\n",
    "# To plot pretty figures\n",
    "%matplotlib inline\n",
    "import matplotlib as mpl\n",
    "import matplotlib.pyplot as plt\n",
    "mpl.rc('axes', labelsize=14)\n",
    "mpl.rc('xtick', labelsize=12)\n",
    "mpl.rc('ytick', labelsize=12)\n"
   ]
  },
  {
   "cell_type": "markdown",
   "id": "8caa4949",
   "metadata": {},
   "source": [
    "## Tensorflow Common Types and Operations"
   ]
  },
  {
   "cell_type": "markdown",
   "id": "d8c18c96",
   "metadata": {},
   "source": [
    "#### Constants and Operations"
   ]
  },
  {
   "cell_type": "code",
   "execution_count": 3,
   "id": "f04fe7c5",
   "metadata": {},
   "outputs": [
    {
     "data": {
      "text/plain": [
       "<tf.Tensor: shape=(3, 3), dtype=float32, numpy=\n",
       "array([[1., 2., 3.],\n",
       "       [4., 5., 6.],\n",
       "       [7., 8., 9.]], dtype=float32)>"
      ]
     },
     "execution_count": 3,
     "metadata": {},
     "output_type": "execute_result"
    }
   ],
   "source": [
    "tf_array = tf.constant([[1., 2., 3.], [4., 5., 6.], [7., 8., 9.]])\n",
    "tf_array"
   ]
  },
  {
   "cell_type": "code",
   "execution_count": 4,
   "id": "0584e9cf",
   "metadata": {},
   "outputs": [
    {
     "data": {
      "text/plain": [
       "<tf.Tensor: shape=(), dtype=int32, numpy=31>"
      ]
     },
     "execution_count": 4,
     "metadata": {},
     "output_type": "execute_result"
    }
   ],
   "source": [
    "tf_const = tf.constant(31)\n",
    "tf_const"
   ]
  },
  {
   "cell_type": "code",
   "execution_count": 5,
   "id": "9fc710f7",
   "metadata": {},
   "outputs": [
    {
     "data": {
      "text/plain": [
       "<tf.Tensor: shape=(3,), dtype=float32, numpy=array([1., 4., 7.], dtype=float32)>"
      ]
     },
     "execution_count": 5,
     "metadata": {},
     "output_type": "execute_result"
    }
   ],
   "source": [
    "tf_array[:,0]"
   ]
  },
  {
   "cell_type": "code",
   "execution_count": 6,
   "id": "a065c70a",
   "metadata": {},
   "outputs": [
    {
     "data": {
      "text/plain": [
       "TensorShape([3, 3])"
      ]
     },
     "execution_count": 6,
     "metadata": {},
     "output_type": "execute_result"
    }
   ],
   "source": [
    "tf_array.shape"
   ]
  },
  {
   "cell_type": "code",
   "execution_count": 7,
   "id": "4c174389",
   "metadata": {},
   "outputs": [
    {
     "data": {
      "text/plain": [
       "<tf.Tensor: shape=(3, 3), dtype=float32, numpy=\n",
       "array([[ 2.,  3.,  4.],\n",
       "       [ 5.,  6.,  7.],\n",
       "       [ 8.,  9., 10.]], dtype=float32)>"
      ]
     },
     "execution_count": 7,
     "metadata": {},
     "output_type": "execute_result"
    }
   ],
   "source": [
    "tf_array + 1"
   ]
  },
  {
   "cell_type": "code",
   "execution_count": 8,
   "id": "1f233312",
   "metadata": {},
   "outputs": [
    {
     "data": {
      "text/plain": [
       "<tf.Tensor: shape=(3, 3), dtype=float32, numpy=\n",
       "array([[ 30.,  36.,  42.],\n",
       "       [ 66.,  81.,  96.],\n",
       "       [102., 126., 150.]], dtype=float32)>"
      ]
     },
     "execution_count": 8,
     "metadata": {},
     "output_type": "execute_result"
    }
   ],
   "source": [
    "tf_array @ tf_array"
   ]
  },
  {
   "cell_type": "markdown",
   "id": "e4250d3f",
   "metadata": {},
   "source": [
    "#### Tensforflow and Numpy"
   ]
  },
  {
   "cell_type": "code",
   "execution_count": 9,
   "id": "b3cbb5cc",
   "metadata": {},
   "outputs": [
    {
     "data": {
      "text/plain": [
       "<tf.Tensor: shape=(), dtype=int32, numpy=31>"
      ]
     },
     "execution_count": 9,
     "metadata": {},
     "output_type": "execute_result"
    }
   ],
   "source": [
    "tf_const"
   ]
  },
  {
   "cell_type": "code",
   "execution_count": 10,
   "id": "b0e2fa31",
   "metadata": {},
   "outputs": [
    {
     "data": {
      "text/plain": [
       "31"
      ]
     },
     "execution_count": 10,
     "metadata": {},
     "output_type": "execute_result"
    }
   ],
   "source": [
    "tf_const.numpy()"
   ]
  },
  {
   "cell_type": "code",
   "execution_count": 11,
   "id": "b63fecd1",
   "metadata": {},
   "outputs": [
    {
     "data": {
      "text/plain": [
       "array([[1., 2., 3.],\n",
       "       [4., 5., 6.],\n",
       "       [7., 8., 9.]], dtype=float32)"
      ]
     },
     "execution_count": 11,
     "metadata": {},
     "output_type": "execute_result"
    }
   ],
   "source": [
    "tf_array.numpy()"
   ]
  },
  {
   "cell_type": "code",
   "execution_count": 12,
   "id": "37ffde57",
   "metadata": {},
   "outputs": [
    {
     "data": {
      "text/plain": [
       "numpy.ndarray"
      ]
     },
     "execution_count": 12,
     "metadata": {},
     "output_type": "execute_result"
    }
   ],
   "source": [
    "type(tf_array.numpy())"
   ]
  },
  {
   "cell_type": "code",
   "execution_count": 13,
   "id": "b3e9415b",
   "metadata": {},
   "outputs": [
    {
     "data": {
      "text/plain": [
       "array([[1, 1, 2],\n",
       "       [3, 5, 8]])"
      ]
     },
     "execution_count": 13,
     "metadata": {},
     "output_type": "execute_result"
    }
   ],
   "source": [
    "numpy_array = np.array([[1, 1, 2], [3, 5 ,8]])\n",
    "numpy_array"
   ]
  },
  {
   "cell_type": "code",
   "execution_count": 14,
   "id": "1eedb77b",
   "metadata": {},
   "outputs": [
    {
     "data": {
      "text/plain": [
       "<tf.Tensor: shape=(2, 3), dtype=int64, numpy=\n",
       "array([[1, 1, 2],\n",
       "       [3, 5, 8]])>"
      ]
     },
     "execution_count": 14,
     "metadata": {},
     "output_type": "execute_result"
    }
   ],
   "source": [
    "tf.constant(numpy_array)"
   ]
  },
  {
   "cell_type": "markdown",
   "id": "835b38f8",
   "metadata": {},
   "source": [
    "#### Tensorflow Variables"
   ]
  },
  {
   "cell_type": "code",
   "execution_count": 15,
   "id": "215fb8ee",
   "metadata": {},
   "outputs": [
    {
     "data": {
      "text/plain": [
       "<tf.Variable 'Variable:0' shape=(3, 3) dtype=float32, numpy=\n",
       "array([[1., 2., 3.],\n",
       "       [4., 5., 6.],\n",
       "       [7., 8., 9.]], dtype=float32)>"
      ]
     },
     "execution_count": 15,
     "metadata": {},
     "output_type": "execute_result"
    }
   ],
   "source": [
    "tf_var = tf.Variable([[1., 2., 3.], [4., 5., 6.], [7., 8., 9.]])\n",
    "tf_var"
   ]
  },
  {
   "cell_type": "code",
   "execution_count": 16,
   "id": "e40ee4b8",
   "metadata": {},
   "outputs": [
    {
     "data": {
      "text/plain": [
       "<tf.Variable 'Variable:0' shape=(3, 3) dtype=float32, numpy=\n",
       "array([[ 1.,  5.,  3.],\n",
       "       [ 4., 11.,  6.],\n",
       "       [ 7., 17.,  9.]], dtype=float32)>"
      ]
     },
     "execution_count": 16,
     "metadata": {},
     "output_type": "execute_result"
    }
   ],
   "source": [
    "tf_var[:, 1].assign(tf_var[:, 1] + tf_var[:, 2])\n",
    "tf_var"
   ]
  },
  {
   "cell_type": "markdown",
   "id": "4e4b1029",
   "metadata": {},
   "source": [
    "#### Tensorflow Strings"
   ]
  },
  {
   "cell_type": "code",
   "execution_count": 17,
   "id": "eaa62bac",
   "metadata": {},
   "outputs": [
    {
     "data": {
      "text/plain": [
       "<tf.Tensor: shape=(), dtype=string, numpy=b'cheeto'>"
      ]
     },
     "execution_count": 17,
     "metadata": {},
     "output_type": "execute_result"
    }
   ],
   "source": [
    "tf_str = tf.constant(\"cheeto\")\n",
    "tf_str"
   ]
  },
  {
   "cell_type": "code",
   "execution_count": 18,
   "id": "770dc809",
   "metadata": {},
   "outputs": [
    {
     "data": {
      "text/plain": [
       "<tf.Tensor: shape=(6,), dtype=string, numpy=array([b'c', b'h', b'e', b'e', b't', b'o'], dtype=object)>"
      ]
     },
     "execution_count": 18,
     "metadata": {},
     "output_type": "execute_result"
    }
   ],
   "source": [
    "tf_chars = tf.constant([c for c in \"cheeto\"])\n",
    "tf_chars"
   ]
  },
  {
   "cell_type": "code",
   "execution_count": 19,
   "id": "b0d56e1d",
   "metadata": {},
   "outputs": [
    {
     "data": {
      "text/plain": [
       "<tf.RaggedTensor [[99],\n",
       " [104],\n",
       " [101],\n",
       " [101],\n",
       " [116],\n",
       " [111]]>"
      ]
     },
     "execution_count": 19,
     "metadata": {},
     "output_type": "execute_result"
    }
   ],
   "source": [
    "tf.strings.unicode_decode(tf_chars, \"UTF-8\")"
   ]
  },
  {
   "cell_type": "markdown",
   "id": "74b00f1a",
   "metadata": {},
   "source": [
    "#### Tensorflow Sets\n",
    "\n",
    "Each row in a matrix represents a set, so each set is a vector."
   ]
  },
  {
   "cell_type": "code",
   "execution_count": 20,
   "id": "4c8f4a57",
   "metadata": {},
   "outputs": [
    {
     "data": {
      "text/plain": [
       "<tf.Tensor: shape=(2, 6), dtype=int32, numpy=\n",
       "array([[ 0,  1,  2,  3,  5,  7],\n",
       "       [ 8,  9, 11, 13, 15,  0]], dtype=int32)>"
      ]
     },
     "execution_count": 20,
     "metadata": {},
     "output_type": "execute_result"
    }
   ],
   "source": [
    "tf_set1 = tf.constant([[1, 3, 5, 7], [9, 11, 13, 15]])\n",
    "tf_set2 = tf.constant([[0, 2, 5], [13, 8, 11]])\n",
    "tf.sparse.to_dense(tf.sets.union(tf_set1, tf_set2))"
   ]
  },
  {
   "cell_type": "markdown",
   "id": "8e3bc57d",
   "metadata": {},
   "source": [
    "## Custom Activation Functions, Initializers, Metrics and Losses"
   ]
  },
  {
   "cell_type": "code",
   "execution_count": 21,
   "id": "66f6ea85",
   "metadata": {},
   "outputs": [],
   "source": [
    "def my_sigmoid(z):\n",
    "    return 1. / (1. + tf.exp(-z))"
   ]
  },
  {
   "cell_type": "code",
   "execution_count": 22,
   "id": "0ede42ed",
   "metadata": {},
   "outputs": [
    {
     "data": {
      "text/plain": [
       "<tf.Tensor: shape=(), dtype=float32, numpy=0.5249792>"
      ]
     },
     "execution_count": 22,
     "metadata": {},
     "output_type": "execute_result"
    }
   ],
   "source": [
    "my_sigmoid(0.1)"
   ]
  },
  {
   "cell_type": "code",
   "execution_count": 23,
   "id": "54c3216f",
   "metadata": {},
   "outputs": [],
   "source": [
    "def my_glorot_initializer(shape):\n",
    "    stddev = tf.sqrt(2. / (shape[0] + shape[1]))\n",
    "    return tf.random.normal(shape, stddev=stddev, dtype=tf.float32)"
   ]
  },
  {
   "cell_type": "code",
   "execution_count": 24,
   "id": "99aca385",
   "metadata": {},
   "outputs": [
    {
     "data": {
      "text/plain": [
       "<tf.Tensor: shape=(30, 8), dtype=float32, numpy=\n",
       "array([[ 1.68732136e-01,  2.40755677e-01,  1.40877783e-01,\n",
       "         2.43688617e-02,  3.40668082e-01, -7.53804110e-03,\n",
       "         9.01103616e-02, -3.23222548e-01],\n",
       "       [ 5.29276431e-02, -2.23672464e-01, -2.52694860e-02,\n",
       "        -2.67078191e-01,  1.88489303e-01,  1.59104183e-01,\n",
       "        -1.84604842e-02, -6.07359968e-02],\n",
       "       [-3.84714492e-02,  1.06007385e-03, -2.15167794e-02,\n",
       "         4.11770493e-01,  2.51709372e-01,  1.22047231e-01,\n",
       "         1.10198088e-01,  4.17397497e-03],\n",
       "       [-1.07939593e-01,  7.23771974e-02,  7.54389912e-02,\n",
       "         1.43001243e-01, -1.62578464e-01, -3.17653179e-01,\n",
       "        -2.39377171e-01, -2.72420883e-01],\n",
       "       [-1.19647287e-01,  1.79983184e-01,  3.22413266e-01,\n",
       "        -5.98094881e-01,  9.79093611e-02, -1.56773906e-02,\n",
       "        -1.16528822e-02, -2.00743720e-01],\n",
       "       [ 3.96184713e-01, -1.07933037e-01, -1.54256955e-01,\n",
       "         2.51009524e-01,  2.11574491e-02, -1.18471429e-01,\n",
       "        -1.72067761e-01, -3.66993487e-01],\n",
       "       [ 1.11826219e-01, -2.04550967e-01,  3.65369171e-01,\n",
       "        -9.39992443e-02, -1.51344836e-01,  2.09679812e-01,\n",
       "        -2.84905359e-02, -3.60672444e-01],\n",
       "       [ 1.28130287e-01, -1.22245327e-01, -2.16416672e-01,\n",
       "         1.18760131e-01,  2.59960711e-01,  3.13895077e-01,\n",
       "        -1.87695578e-01,  9.59202275e-03],\n",
       "       [-2.25514293e-01, -2.32874438e-01, -2.66453743e-01,\n",
       "         6.38401285e-02,  1.02488115e-01,  1.26978442e-01,\n",
       "         4.49628830e-02, -1.88038170e-01],\n",
       "       [ 7.75821134e-02,  8.45885053e-02, -4.76127416e-02,\n",
       "         8.64212960e-02, -1.88750669e-01,  2.13809714e-01,\n",
       "        -1.90693010e-02,  1.22323476e-01],\n",
       "       [-1.08542703e-01, -2.53537536e-01, -2.26478747e-04,\n",
       "        -6.71246089e-03,  3.41877848e-01, -3.90252769e-01,\n",
       "        -3.93333912e-01,  1.98279902e-01],\n",
       "       [ 7.16385664e-03,  5.55450767e-02, -2.30110243e-01,\n",
       "        -3.36846441e-01,  3.70991975e-02, -2.27036104e-01,\n",
       "        -2.16302618e-01,  3.55014861e-01],\n",
       "       [ 5.55476658e-02, -2.47799054e-01, -8.92699882e-02,\n",
       "        -1.74753100e-01, -5.46393730e-02, -1.37545124e-01,\n",
       "        -1.69684097e-01, -1.09643735e-01],\n",
       "       [-1.13382213e-01,  3.26041222e-01, -1.03207767e-01,\n",
       "         1.17788456e-01, -2.05175027e-01, -2.36189902e-01,\n",
       "        -1.77897140e-01, -3.15644503e-01],\n",
       "       [ 3.46749961e-01, -1.02247216e-01, -2.65863776e-01,\n",
       "         8.37157890e-02,  1.65345579e-01, -6.24387443e-01,\n",
       "         1.93378940e-01,  1.74560808e-02],\n",
       "       [-7.43907019e-02, -1.76373780e-01, -4.18163359e-01,\n",
       "        -2.48832136e-01, -7.25664794e-02,  1.54663146e-01,\n",
       "        -6.16027452e-02,  8.32495838e-02],\n",
       "       [-1.34257287e-01, -1.89433828e-01, -3.36705655e-01,\n",
       "        -4.70401615e-01, -1.27406940e-01,  4.76211570e-02,\n",
       "         5.56146353e-02,  2.88885921e-01],\n",
       "       [-1.14611097e-01,  1.34585977e-01, -2.13054210e-01,\n",
       "         5.15949130e-01,  1.43208802e-01,  1.97064340e-01,\n",
       "        -6.88633919e-02,  2.20391288e-01],\n",
       "       [-3.37236285e-01,  2.26173222e-01,  2.48700622e-02,\n",
       "         3.71711515e-03, -1.38207674e-01, -2.63196975e-01,\n",
       "        -1.26826957e-01, -3.03253066e-02],\n",
       "       [-3.46084148e-01,  1.66943416e-01, -4.26890403e-01,\n",
       "        -2.47819629e-02,  2.82204866e-01,  2.01680943e-01,\n",
       "         1.72478691e-01, -2.27328777e-01],\n",
       "       [ 3.28745067e-01, -4.10894006e-01, -6.44421279e-02,\n",
       "        -2.47119114e-01, -2.44727880e-01, -1.64469153e-01,\n",
       "        -8.72633141e-03, -1.55896291e-01],\n",
       "       [-3.34624290e-01,  7.01686367e-02, -2.17020229e-01,\n",
       "        -1.82778686e-01, -4.86187525e-02, -4.31868374e-01,\n",
       "        -3.06768250e-02, -1.89718306e-01],\n",
       "       [ 1.75294559e-02,  3.90445232e-01, -5.86239398e-01,\n",
       "         4.00383696e-02,  4.30914402e-01,  1.16553053e-01,\n",
       "        -3.09682488e-01,  3.11170608e-01],\n",
       "       [ 6.22612536e-01,  2.14513615e-01,  3.91678698e-02,\n",
       "        -1.18996091e-02, -1.24329075e-01, -2.74222940e-01,\n",
       "         4.34732020e-01, -2.18390465e-01],\n",
       "       [ 1.91729426e-01, -1.24345906e-01, -3.14533293e-01,\n",
       "        -3.80963504e-01, -3.18860888e-01,  4.41753417e-02,\n",
       "        -2.03097537e-01,  1.58650596e-02],\n",
       "       [ 9.45363641e-02, -2.19609886e-01,  1.27490282e-01,\n",
       "         3.94094974e-01, -4.35407966e-01, -3.12819213e-01,\n",
       "         1.88259155e-01,  5.60018234e-02],\n",
       "       [ 2.25928664e-01,  1.12114079e-01,  1.23087466e-01,\n",
       "        -2.43607923e-01,  1.35384902e-01,  2.57032245e-01,\n",
       "         1.11182787e-01,  2.81614929e-01],\n",
       "       [-4.01157022e-01, -2.03411236e-01,  1.71303585e-01,\n",
       "        -9.71145257e-02, -1.72734380e-01,  2.15871483e-01,\n",
       "        -1.86980128e-01,  4.19432446e-02],\n",
       "       [ 7.53979012e-02,  2.31067881e-01,  1.59202039e-01,\n",
       "         3.08951229e-01, -2.55211927e-02, -2.42203638e-01,\n",
       "         3.99750061e-02, -1.11688338e-01],\n",
       "       [-2.59690434e-01, -1.49142131e-01,  1.70035094e-01,\n",
       "         1.18081987e-01, -5.99242188e-02,  4.03040871e-02,\n",
       "         2.15471566e-01, -2.44818896e-01]], dtype=float32)>"
      ]
     },
     "execution_count": 24,
     "metadata": {},
     "output_type": "execute_result"
    }
   ],
   "source": [
    "glorot_weights = my_glorot_initializer((30, 8))\n",
    "glorot_weights"
   ]
  },
  {
   "cell_type": "code",
   "execution_count": 25,
   "id": "e04253b4",
   "metadata": {},
   "outputs": [],
   "source": [
    "def my_l1_regularizer(weights):\n",
    "    return tf.reduce_sum(tf.abs(0.01 * weights))"
   ]
  },
  {
   "cell_type": "code",
   "execution_count": 26,
   "id": "0ef58424",
   "metadata": {},
   "outputs": [
    {
     "data": {
      "text/plain": [
       "<tf.Tensor: shape=(), dtype=float32, numpy=0.4405663>"
      ]
     },
     "execution_count": 26,
     "metadata": {},
     "output_type": "execute_result"
    }
   ],
   "source": [
    "my_l1_regularizer(glorot_weights)"
   ]
  },
  {
   "cell_type": "code",
   "execution_count": 27,
   "id": "ffdfc319",
   "metadata": {},
   "outputs": [],
   "source": [
    "def my_l2_regularizer(weights):\n",
    "    return tf.reduce_sum(0.01 * tf.square(weights))"
   ]
  },
  {
   "cell_type": "code",
   "execution_count": 28,
   "id": "641df95d",
   "metadata": {},
   "outputs": [
    {
     "data": {
      "text/plain": [
       "<tf.Tensor: shape=(), dtype=float32, numpy=0.12027138>"
      ]
     },
     "execution_count": 28,
     "metadata": {},
     "output_type": "execute_result"
    }
   ],
   "source": [
    "my_l2_regularizer(glorot_weights)"
   ]
  },
  {
   "cell_type": "code",
   "execution_count": 29,
   "id": "690be8a8",
   "metadata": {},
   "outputs": [],
   "source": [
    "def my_relu(z):\n",
    "    return tf.where(z < 0., tf.zeros_like(z), z)"
   ]
  },
  {
   "cell_type": "code",
   "execution_count": 30,
   "id": "bcf9d28e",
   "metadata": {},
   "outputs": [
    {
     "data": {
      "text/plain": [
       "<tf.Tensor: shape=(), dtype=int32, numpy=0>"
      ]
     },
     "execution_count": 30,
     "metadata": {},
     "output_type": "execute_result"
    }
   ],
   "source": [
    "my_relu(-3)"
   ]
  },
  {
   "cell_type": "code",
   "execution_count": 31,
   "id": "1544e38f",
   "metadata": {},
   "outputs": [
    {
     "data": {
      "text/plain": [
       "<tf.Tensor: shape=(), dtype=int32, numpy=1>"
      ]
     },
     "execution_count": 31,
     "metadata": {},
     "output_type": "execute_result"
    }
   ],
   "source": [
    "my_relu(1)"
   ]
  },
  {
   "cell_type": "code",
   "execution_count": 32,
   "id": "3ef7d3f7",
   "metadata": {},
   "outputs": [],
   "source": [
    "layer = keras.layers.Dense(30, activation=my_relu, \n",
    "                           kernel_initializer=my_glorot_initializer,\n",
    "                           kernel_regularizer=my_l1_regularizer)"
   ]
  },
  {
   "cell_type": "markdown",
   "id": "be23b430",
   "metadata": {},
   "source": [
    "In case we have hyperparameters, we need to define a class"
   ]
  },
  {
   "cell_type": "code",
   "execution_count": 33,
   "id": "c73a786e",
   "metadata": {},
   "outputs": [],
   "source": [
    "class MyL1Regularizer(keras.regularizers.Regularizer):\n",
    "    def __init__(self, factor):\n",
    "        self.factor = factor\n",
    "    def __call__(self, weights):\n",
    "        return tf.reduce_sum(tf.abs(self.factor * weights))\n",
    "    def get_config(self):\n",
    "        return {\"factor\": self.factor}"
   ]
  },
  {
   "cell_type": "markdown",
   "id": "c4db1eb9",
   "metadata": {},
   "source": [
    "* For a custom metric we need to inherit from `keras.metrics.Metric`.\n",
    "\n",
    "* For a custom loss function we need to inherit from `keras.losses.Loss`."
   ]
  },
  {
   "cell_type": "markdown",
   "id": "827d31e1",
   "metadata": {},
   "source": [
    "## Custom Layers"
   ]
  },
  {
   "cell_type": "code",
   "execution_count": 34,
   "id": "ee7a5886",
   "metadata": {},
   "outputs": [],
   "source": [
    "class MyDense(keras.layers.Layer):\n",
    "    def __init__(self, units, activation=None, **kwargs):\n",
    "        super().__init__(**kwargs)\n",
    "        self.units = units\n",
    "        self.activation = keras.activations.get(activation)\n",
    "\n",
    "    def build(self, batch_input_shape):\n",
    "        self.kernel = self.add_weight(\n",
    "            name=\"kernel\", shape=[batch_input_shape[-1], self.units],\n",
    "            initializer=\"glorot_normal\")\n",
    "        self.bias = self.add_weight(\n",
    "            name=\"bias\", shape=[self.units], initializer=\"zeros\")\n",
    "        super().build(batch_input_shape) # must be at the end\n",
    "\n",
    "    def call(self, X):\n",
    "        return self.activation(X @ self.kernel + self.bias)\n",
    "\n",
    "    def compute_output_shape(self, batch_input_shape):\n",
    "        return tf.TensorShape(batch_input_shape.as_list()[:-1] + [self.units])\n",
    "\n",
    "    def get_config(self):\n",
    "        base_config = super().get_config()\n",
    "        return {**base_config, \"units\": self.units,\n",
    "                \"activation\": keras.activations.serialize(self.activation)}"
   ]
  },
  {
   "cell_type": "markdown",
   "id": "06e5d701",
   "metadata": {},
   "source": [
    "## Data Processing"
   ]
  },
  {
   "cell_type": "code",
   "execution_count": 35,
   "id": "72363543",
   "metadata": {},
   "outputs": [
    {
     "name": "stdout",
     "output_type": "stream",
     "text": [
      "____________________ Batch 0 \n",
      "X_batch\n",
      "[[6 7 8 9]\n",
      " [2 3 4 5]\n",
      " [4 5 6 7]]\n",
      "===== \n",
      "Y_batch\n",
      "[[ 7  8  9 10]\n",
      " [ 3  4  5  6]\n",
      " [ 5  6  7  8]]\n",
      "____________________ Batch 1 \n",
      "X_batch\n",
      "[[ 0  1  2  3]\n",
      " [ 8  9 10 11]\n",
      " [10 11 12 13]]\n",
      "===== \n",
      "Y_batch\n",
      "[[ 1  2  3  4]\n",
      " [ 9 10 11 12]\n",
      " [11 12 13 14]]\n"
     ]
    },
    {
     "name": "stderr",
     "output_type": "stream",
     "text": [
      "2023-06-09 11:39:28.595351: W tensorflow/core/platform/profile_utils/cpu_utils.cc:128] Failed to get CPU frequency: 0 Hz\n"
     ]
    }
   ],
   "source": [
    "np.random.seed(42)\n",
    "tf.random.set_seed(42)\n",
    "\n",
    "n_steps = 5\n",
    "dataset = tf.data.Dataset.from_tensor_slices(tf.range(15))\n",
    "dataset = dataset.window(n_steps, shift=2, drop_remainder=True)\n",
    "dataset = dataset.flat_map(lambda window: window.batch(n_steps))\n",
    "dataset = dataset.shuffle(10).map(lambda window: (window[:-1], window[1:]))\n",
    "dataset = dataset.batch(3).prefetch(1)\n",
    "for index, (X_batch, Y_batch) in enumerate(dataset):\n",
    "    print(\"_\" * 20, \"Batch\", index, \"\\nX_batch\")\n",
    "    print(X_batch.numpy())\n",
    "    print(\"=\" * 5, \"\\nY_batch\")\n",
    "    print(Y_batch.numpy())"
   ]
  },
  {
   "cell_type": "markdown",
   "id": "52ed59a3",
   "metadata": {},
   "source": [
    "#### Exercise\n",
    "\n",
    "Change the previous cell to have as the target variable, Y, only the last element of the window, while the first `n_steps - 1` elements are assigned to X "
   ]
  },
  {
   "cell_type": "markdown",
   "id": "2587bf74",
   "metadata": {},
   "source": [
    "## Encoding using One-Hot Encoder"
   ]
  },
  {
   "cell_type": "code",
   "execution_count": 44,
   "id": "f87cf22f",
   "metadata": {},
   "outputs": [
    {
     "data": {
      "text/plain": [
       "<tf.Tensor: shape=(5,), dtype=int64, numpy=array([0, 1, 2, 3, 4])>"
      ]
     },
     "execution_count": 44,
     "metadata": {},
     "output_type": "execute_result"
    }
   ],
   "source": [
    "vocab = [\"CHEETO\", \"SPURS\", \"ATLAS\", \"FEDERER\", \"JORDAN\"];\n",
    "indices = tf.range(len(vocab), dtype=tf.int64)\n",
    "indices"
   ]
  },
  {
   "cell_type": "code",
   "execution_count": 45,
   "id": "da25220f",
   "metadata": {},
   "outputs": [
    {
     "data": {
      "text/plain": [
       "<tensorflow.python.ops.lookup_ops.StaticVocabularyTable at 0x17c48d520>"
      ]
     },
     "execution_count": 45,
     "metadata": {},
     "output_type": "execute_result"
    }
   ],
   "source": [
    "table_init = tf.lookup.KeyValueTensorInitializer(vocab, indices)\n",
    "num_oov_buckets = 2\n",
    "table = tf.lookup.StaticVocabularyTable(table_init, num_oov_buckets)\n",
    "table"
   ]
  },
  {
   "cell_type": "code",
   "execution_count": 48,
   "id": "2e114879",
   "metadata": {},
   "outputs": [
    {
     "data": {
      "text/plain": [
       "<tf.Tensor: shape=(8,), dtype=int64, numpy=array([0, 6, 3, 4, 6, 6, 5, 1])>"
      ]
     },
     "execution_count": 48,
     "metadata": {},
     "output_type": "execute_result"
    }
   ],
   "source": [
    "categories = tf.constant([\"CHEETO\", \"MAGIC\", \"FEDERER\", \"JORDAN\", \"MAGIC\", \"JOKIC\", \"JORCH\", \"SPURS\"])\n",
    "cat_indices = table.lookup(categories)\n",
    "cat_indices"
   ]
  },
  {
   "cell_type": "code",
   "execution_count": 49,
   "id": "dec70dc9",
   "metadata": {},
   "outputs": [
    {
     "data": {
      "text/plain": [
       "<tf.Tensor: shape=(8, 7), dtype=float32, numpy=\n",
       "array([[1., 0., 0., 0., 0., 0., 0.],\n",
       "       [0., 0., 0., 0., 0., 0., 1.],\n",
       "       [0., 0., 0., 1., 0., 0., 0.],\n",
       "       [0., 0., 0., 0., 1., 0., 0.],\n",
       "       [0., 0., 0., 0., 0., 0., 1.],\n",
       "       [0., 0., 0., 0., 0., 0., 1.],\n",
       "       [0., 0., 0., 0., 0., 1., 0.],\n",
       "       [0., 1., 0., 0., 0., 0., 0.]], dtype=float32)>"
      ]
     },
     "execution_count": 49,
     "metadata": {},
     "output_type": "execute_result"
    }
   ],
   "source": [
    "cat_one_hot = tf.one_hot(cat_indices, depth=len(vocab) + num_oov_buckets)\n",
    "cat_one_hot"
   ]
  },
  {
   "cell_type": "markdown",
   "id": "5fb00735",
   "metadata": {},
   "source": [
    "## Encoding using Embeddings"
   ]
  },
  {
   "cell_type": "code",
   "execution_count": 52,
   "id": "674de648",
   "metadata": {},
   "outputs": [
    {
     "data": {
      "text/plain": [
       "<tf.Variable 'Variable:0' shape=(7, 2) dtype=float32, numpy=\n",
       "array([[0.7413678 , 0.62854624],\n",
       "       [0.01738465, 0.3431449 ],\n",
       "       [0.51063764, 0.3777541 ],\n",
       "       [0.07321596, 0.02137029],\n",
       "       [0.2871771 , 0.4710616 ],\n",
       "       [0.6936141 , 0.07321334],\n",
       "       [0.93251204, 0.20843053]], dtype=float32)>"
      ]
     },
     "execution_count": 52,
     "metadata": {},
     "output_type": "execute_result"
    }
   ],
   "source": [
    "embedding_dim = 2\n",
    "embed_init = tf.random.uniform([len(vocab) + num_oov_buckets, embedding_dim])\n",
    "embedding_matrix = tf.Variable(embed_init)\n",
    "embedding_matrix"
   ]
  },
  {
   "cell_type": "code",
   "execution_count": 53,
   "id": "826f6648",
   "metadata": {},
   "outputs": [
    {
     "data": {
      "text/plain": [
       "<tf.Tensor: shape=(8,), dtype=int64, numpy=array([0, 6, 3, 4, 6, 6, 5, 1])>"
      ]
     },
     "execution_count": 53,
     "metadata": {},
     "output_type": "execute_result"
    }
   ],
   "source": [
    "categories = tf.constant([\"CHEETO\", \"MAGIC\", \"FEDERER\", \"JORDAN\", \"MAGIC\", \"JOKIC\", \"JORCH\", \"SPURS\"])\n",
    "cat_indices = table.lookup(categories)\n",
    "cat_indices"
   ]
  },
  {
   "cell_type": "code",
   "execution_count": 54,
   "id": "67d94d29",
   "metadata": {},
   "outputs": [
    {
     "data": {
      "text/plain": [
       "<tf.Tensor: shape=(8, 2), dtype=float32, numpy=\n",
       "array([[0.7413678 , 0.62854624],\n",
       "       [0.93251204, 0.20843053],\n",
       "       [0.07321596, 0.02137029],\n",
       "       [0.2871771 , 0.4710616 ],\n",
       "       [0.93251204, 0.20843053],\n",
       "       [0.93251204, 0.20843053],\n",
       "       [0.6936141 , 0.07321334],\n",
       "       [0.01738465, 0.3431449 ]], dtype=float32)>"
      ]
     },
     "execution_count": 54,
     "metadata": {},
     "output_type": "execute_result"
    }
   ],
   "source": [
    "tf.nn.embedding_lookup(embedding_matrix, cat_indices)"
   ]
  },
  {
   "cell_type": "code",
   "execution_count": 56,
   "id": "5c791726",
   "metadata": {},
   "outputs": [
    {
     "data": {
      "text/plain": [
       "<tf.Tensor: shape=(8, 2), dtype=float32, numpy=\n",
       "array([[-0.00202948,  0.00609867],\n",
       "       [ 0.00915229, -0.01083909],\n",
       "       [-0.0110005 ,  0.00738021],\n",
       "       [ 0.03156973, -0.00937718],\n",
       "       [ 0.00915229, -0.01083909],\n",
       "       [ 0.00915229, -0.01083909],\n",
       "       [ 0.03935714,  0.02117929],\n",
       "       [ 0.03416841, -0.04140834]], dtype=float32)>"
      ]
     },
     "execution_count": 56,
     "metadata": {},
     "output_type": "execute_result"
    }
   ],
   "source": [
    "embedding = keras.layers.Embedding(input_dim=len(vocab) + num_oov_buckets, \n",
    "                                   output_dim=embedding_dim)\n",
    "embedding(cat_indices)"
   ]
  },
  {
   "cell_type": "code",
   "execution_count": null,
   "id": "52916238",
   "metadata": {},
   "outputs": [],
   "source": []
  }
 ],
 "metadata": {
  "kernelspec": {
   "display_name": "Python 3 (ipykernel)",
   "language": "python",
   "name": "python3"
  },
  "language_info": {
   "codemirror_mode": {
    "name": "ipython",
    "version": 3
   },
   "file_extension": ".py",
   "mimetype": "text/x-python",
   "name": "python",
   "nbconvert_exporter": "python",
   "pygments_lexer": "ipython3",
   "version": "3.8.15"
  }
 },
 "nbformat": 4,
 "nbformat_minor": 5
}
