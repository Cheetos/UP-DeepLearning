{
 "cells": [
  {
   "cell_type": "code",
   "execution_count": 2,
   "id": "50504a8f",
   "metadata": {},
   "outputs": [],
   "source": [
    "# Python ≥3.5 is required\n",
    "import sys\n",
    "assert sys.version_info >= (3, 5)\n",
    "\n",
    "# Scikit-Learn ≥0.20 is required\n",
    "import sklearn\n",
    "assert sklearn.__version__ >= \"0.20\"\n",
    "\n",
    "try:\n",
    "    # %tensorflow_version only exists in Colab.\n",
    "    %tensorflow_version 2.x\n",
    "except Exception:\n",
    "    pass\n",
    "\n",
    "# TensorFlow ≥2.4 is required in this notebook\n",
    "# Earlier 2.x versions will mostly work the same, but with a few bugs\n",
    "import tensorflow as tf\n",
    "from tensorflow import keras\n",
    "\n",
    "# Common imports\n",
    "import numpy as np\n",
    "import os\n",
    "\n",
    "# to make this notebook's output stable across runs\n",
    "np.random.seed(23)\n",
    "tf.random.set_seed(23)\n",
    "\n",
    "# To plot pretty figures\n",
    "%matplotlib inline\n",
    "import matplotlib as mpl\n",
    "import matplotlib.pyplot as plt\n",
    "mpl.rc('axes', labelsize=14)\n",
    "mpl.rc('xtick', labelsize=12)\n",
    "mpl.rc('ytick', labelsize=12)\n"
   ]
  },
  {
   "cell_type": "markdown",
   "id": "8caa4949",
   "metadata": {},
   "source": [
    "## Tensorflow Common Types and Operations"
   ]
  },
  {
   "cell_type": "markdown",
   "id": "d8c18c96",
   "metadata": {},
   "source": [
    "#### Constants and Operations"
   ]
  },
  {
   "cell_type": "code",
   "execution_count": 5,
   "id": "f04fe7c5",
   "metadata": {},
   "outputs": [
    {
     "data": {
      "text/plain": [
       "<tf.Tensor: shape=(3, 3), dtype=float32, numpy=\n",
       "array([[1., 2., 3.],\n",
       "       [4., 5., 6.],\n",
       "       [7., 8., 9.]], dtype=float32)>"
      ]
     },
     "execution_count": 5,
     "metadata": {},
     "output_type": "execute_result"
    }
   ],
   "source": [
    "tf_array = tf.constant([[1., 2., 3.], [4., 5., 6.], [7., 8., 9.]])\n",
    "tf_array"
   ]
  },
  {
   "cell_type": "code",
   "execution_count": 6,
   "id": "0584e9cf",
   "metadata": {},
   "outputs": [
    {
     "data": {
      "text/plain": [
       "<tf.Tensor: shape=(), dtype=int32, numpy=31>"
      ]
     },
     "execution_count": 6,
     "metadata": {},
     "output_type": "execute_result"
    }
   ],
   "source": [
    "tf_const = tf.constant(31)\n",
    "tf_const"
   ]
  },
  {
   "cell_type": "code",
   "execution_count": 7,
   "id": "9fc710f7",
   "metadata": {},
   "outputs": [
    {
     "data": {
      "text/plain": [
       "<tf.Tensor: shape=(3,), dtype=float32, numpy=array([1., 4., 7.], dtype=float32)>"
      ]
     },
     "execution_count": 7,
     "metadata": {},
     "output_type": "execute_result"
    }
   ],
   "source": [
    "tf_array[:,0]"
   ]
  },
  {
   "cell_type": "code",
   "execution_count": 8,
   "id": "a065c70a",
   "metadata": {},
   "outputs": [
    {
     "data": {
      "text/plain": [
       "TensorShape([3, 3])"
      ]
     },
     "execution_count": 8,
     "metadata": {},
     "output_type": "execute_result"
    }
   ],
   "source": [
    "tf_array.shape"
   ]
  },
  {
   "cell_type": "code",
   "execution_count": 9,
   "id": "4c174389",
   "metadata": {},
   "outputs": [
    {
     "data": {
      "text/plain": [
       "<tf.Tensor: shape=(3, 3), dtype=float32, numpy=\n",
       "array([[ 2.,  3.,  4.],\n",
       "       [ 5.,  6.,  7.],\n",
       "       [ 8.,  9., 10.]], dtype=float32)>"
      ]
     },
     "execution_count": 9,
     "metadata": {},
     "output_type": "execute_result"
    }
   ],
   "source": [
    "tf_array + 1"
   ]
  },
  {
   "cell_type": "code",
   "execution_count": 10,
   "id": "1f233312",
   "metadata": {},
   "outputs": [
    {
     "data": {
      "text/plain": [
       "<tf.Tensor: shape=(3, 3), dtype=float32, numpy=\n",
       "array([[ 30.,  36.,  42.],\n",
       "       [ 66.,  81.,  96.],\n",
       "       [102., 126., 150.]], dtype=float32)>"
      ]
     },
     "execution_count": 10,
     "metadata": {},
     "output_type": "execute_result"
    }
   ],
   "source": [
    "tf_array @ tf_array"
   ]
  },
  {
   "cell_type": "markdown",
   "id": "e4250d3f",
   "metadata": {},
   "source": [
    "#### Tensforflow and Numpy"
   ]
  },
  {
   "cell_type": "code",
   "execution_count": 12,
   "id": "b3cbb5cc",
   "metadata": {},
   "outputs": [
    {
     "data": {
      "text/plain": [
       "<tf.Tensor: shape=(), dtype=int32, numpy=31>"
      ]
     },
     "execution_count": 12,
     "metadata": {},
     "output_type": "execute_result"
    }
   ],
   "source": [
    "tf_const"
   ]
  },
  {
   "cell_type": "code",
   "execution_count": 13,
   "id": "b0e2fa31",
   "metadata": {},
   "outputs": [
    {
     "data": {
      "text/plain": [
       "31"
      ]
     },
     "execution_count": 13,
     "metadata": {},
     "output_type": "execute_result"
    }
   ],
   "source": [
    "tf_const.numpy()"
   ]
  },
  {
   "cell_type": "code",
   "execution_count": 14,
   "id": "b63fecd1",
   "metadata": {},
   "outputs": [
    {
     "data": {
      "text/plain": [
       "array([[1., 2., 3.],\n",
       "       [4., 5., 6.],\n",
       "       [7., 8., 9.]], dtype=float32)"
      ]
     },
     "execution_count": 14,
     "metadata": {},
     "output_type": "execute_result"
    }
   ],
   "source": [
    "tf_array.numpy()"
   ]
  },
  {
   "cell_type": "code",
   "execution_count": 15,
   "id": "37ffde57",
   "metadata": {},
   "outputs": [
    {
     "data": {
      "text/plain": [
       "numpy.ndarray"
      ]
     },
     "execution_count": 15,
     "metadata": {},
     "output_type": "execute_result"
    }
   ],
   "source": [
    "type(tf_array.numpy())"
   ]
  },
  {
   "cell_type": "code",
   "execution_count": 16,
   "id": "b3e9415b",
   "metadata": {},
   "outputs": [
    {
     "data": {
      "text/plain": [
       "array([[1, 1, 2],\n",
       "       [3, 5, 8]])"
      ]
     },
     "execution_count": 16,
     "metadata": {},
     "output_type": "execute_result"
    }
   ],
   "source": [
    "numpy_array = np.array([[1, 1, 2], [3, 5 ,8]])\n",
    "numpy_array"
   ]
  },
  {
   "cell_type": "code",
   "execution_count": 17,
   "id": "1eedb77b",
   "metadata": {},
   "outputs": [
    {
     "data": {
      "text/plain": [
       "<tf.Tensor: shape=(2, 3), dtype=int64, numpy=\n",
       "array([[1, 1, 2],\n",
       "       [3, 5, 8]])>"
      ]
     },
     "execution_count": 17,
     "metadata": {},
     "output_type": "execute_result"
    }
   ],
   "source": [
    "tf.constant(numpy_array)"
   ]
  },
  {
   "cell_type": "markdown",
   "id": "835b38f8",
   "metadata": {},
   "source": [
    "#### Tensorflow Variables"
   ]
  },
  {
   "cell_type": "code",
   "execution_count": 18,
   "id": "215fb8ee",
   "metadata": {},
   "outputs": [
    {
     "data": {
      "text/plain": [
       "<tf.Variable 'Variable:0' shape=(3, 3) dtype=float32, numpy=\n",
       "array([[1., 2., 3.],\n",
       "       [4., 5., 6.],\n",
       "       [7., 8., 9.]], dtype=float32)>"
      ]
     },
     "execution_count": 18,
     "metadata": {},
     "output_type": "execute_result"
    }
   ],
   "source": [
    "tf_var = tf.Variable([[1., 2., 3.], [4., 5., 6.], [7., 8., 9.]])\n",
    "tf_var"
   ]
  },
  {
   "cell_type": "code",
   "execution_count": 20,
   "id": "e40ee4b8",
   "metadata": {},
   "outputs": [
    {
     "data": {
      "text/plain": [
       "<tf.Variable 'Variable:0' shape=(3, 3) dtype=float32, numpy=\n",
       "array([[ 1.,  5.,  3.],\n",
       "       [ 4., 11.,  6.],\n",
       "       [ 7., 17.,  9.]], dtype=float32)>"
      ]
     },
     "execution_count": 20,
     "metadata": {},
     "output_type": "execute_result"
    }
   ],
   "source": [
    "tf_var[:, 1].assign(tf_var[:, 1] + tf_var[:, 2])\n",
    "tf_var"
   ]
  },
  {
   "cell_type": "markdown",
   "id": "4e4b1029",
   "metadata": {},
   "source": [
    "#### Tensorflow Strings"
   ]
  },
  {
   "cell_type": "code",
   "execution_count": 21,
   "id": "eaa62bac",
   "metadata": {},
   "outputs": [
    {
     "data": {
      "text/plain": [
       "<tf.Tensor: shape=(), dtype=string, numpy=b'cheeto'>"
      ]
     },
     "execution_count": 21,
     "metadata": {},
     "output_type": "execute_result"
    }
   ],
   "source": [
    "tf_str = tf.constant(\"cheeto\")\n",
    "tf_str"
   ]
  },
  {
   "cell_type": "code",
   "execution_count": 35,
   "id": "770dc809",
   "metadata": {},
   "outputs": [
    {
     "data": {
      "text/plain": [
       "<tf.Tensor: shape=(6,), dtype=string, numpy=array([b'c', b'h', b'e', b'e', b't', b'o'], dtype=object)>"
      ]
     },
     "execution_count": 35,
     "metadata": {},
     "output_type": "execute_result"
    }
   ],
   "source": [
    "tf_chars = tf.constant([c for c in \"cheeto\"])\n",
    "tf_chars"
   ]
  },
  {
   "cell_type": "code",
   "execution_count": 38,
   "id": "b0d56e1d",
   "metadata": {},
   "outputs": [
    {
     "data": {
      "text/plain": [
       "<tf.RaggedTensor [[99],\n",
       " [104],\n",
       " [101],\n",
       " [101],\n",
       " [116],\n",
       " [111]]>"
      ]
     },
     "execution_count": 38,
     "metadata": {},
     "output_type": "execute_result"
    }
   ],
   "source": [
    "tf.strings.unicode_decode(tf_chars, \"UTF-8\")"
   ]
  },
  {
   "cell_type": "markdown",
   "id": "74b00f1a",
   "metadata": {},
   "source": [
    "#### Tensorflow Sets\n",
    "\n",
    "Each row in a matrix represents a set, so each set is a vector."
   ]
  },
  {
   "cell_type": "code",
   "execution_count": 41,
   "id": "4c8f4a57",
   "metadata": {},
   "outputs": [
    {
     "data": {
      "text/plain": [
       "<tf.Tensor: shape=(2, 6), dtype=int32, numpy=\n",
       "array([[ 0,  1,  2,  3,  5,  7],\n",
       "       [ 8,  9, 11, 13, 15,  0]], dtype=int32)>"
      ]
     },
     "execution_count": 41,
     "metadata": {},
     "output_type": "execute_result"
    }
   ],
   "source": [
    "tf_set1 = tf.constant([[1, 3, 5, 7], [9, 11, 13, 15]])\n",
    "tf_set2 = tf.constant([[0, 2, 5], [13, 8, 11]])\n",
    "tf.sparse.to_dense(tf.sets.union(tf_set1, tf_set2))"
   ]
  },
  {
   "cell_type": "markdown",
   "id": "8e3bc57d",
   "metadata": {},
   "source": [
    "## Custom Activation Functions, Initializers, Metrics and Losses"
   ]
  },
  {
   "cell_type": "code",
   "execution_count": 42,
   "id": "66f6ea85",
   "metadata": {},
   "outputs": [],
   "source": [
    "def my_sigmoid(z):\n",
    "    return 1. / (1. + tf.exp(-z))"
   ]
  },
  {
   "cell_type": "code",
   "execution_count": 45,
   "id": "0ede42ed",
   "metadata": {},
   "outputs": [
    {
     "data": {
      "text/plain": [
       "<tf.Tensor: shape=(), dtype=float32, numpy=0.5249792>"
      ]
     },
     "execution_count": 45,
     "metadata": {},
     "output_type": "execute_result"
    }
   ],
   "source": [
    "my_sigmoid(0.1)"
   ]
  },
  {
   "cell_type": "code",
   "execution_count": 46,
   "id": "54c3216f",
   "metadata": {},
   "outputs": [],
   "source": [
    "def my_glorot_initializer(shape):\n",
    "    stddev = tf.sqrt(2. / (shape[0] + shape[1]))\n",
    "    return tf.random.normal(shape, stddev=stddev, dtype=tf.float32)"
   ]
  },
  {
   "cell_type": "code",
   "execution_count": 50,
   "id": "99aca385",
   "metadata": {},
   "outputs": [
    {
     "data": {
      "text/plain": [
       "<tf.Tensor: shape=(30, 8), dtype=float32, numpy=\n",
       "array([[-2.08642241e-02, -1.77352726e-02,  1.98043808e-01,\n",
       "        -2.75053501e-01, -1.01896167e-01,  1.23544201e-01,\n",
       "         1.59893736e-01,  5.22514470e-02],\n",
       "       [-1.67840973e-01,  6.09271899e-02, -2.68196225e-01,\n",
       "         1.24674477e-01,  2.87606031e-01, -2.87363529e-01,\n",
       "        -1.70807645e-01,  5.34604132e-01],\n",
       "       [-3.20544004e-01, -1.63540497e-01,  1.78350285e-01,\n",
       "         1.88906863e-02,  7.53221512e-02,  1.21620618e-01,\n",
       "        -1.91055834e-02,  2.25163680e-02],\n",
       "       [-6.04539923e-02,  3.76067683e-02, -3.02041352e-01,\n",
       "        -8.94935727e-02, -3.00004184e-01,  2.42172152e-01,\n",
       "         2.38217428e-01, -3.15907747e-01],\n",
       "       [ 3.22891861e-01, -1.48134485e-01,  1.71841890e-01,\n",
       "         2.91384645e-02, -2.04411522e-01, -2.77732126e-02,\n",
       "        -1.54018924e-01,  8.77042636e-02],\n",
       "       [-7.42704794e-02,  1.56097993e-01,  1.02842212e-01,\n",
       "         3.54622960e-01, -2.56843008e-02, -1.69651330e-01,\n",
       "         1.42681032e-01,  2.82100797e-01],\n",
       "       [ 4.58280981e-01,  2.28552714e-01,  6.62089065e-02,\n",
       "         5.48945107e-02,  1.95879385e-01, -2.05496520e-01,\n",
       "        -4.26868707e-01,  1.62360743e-01],\n",
       "       [ 1.71035692e-01,  1.47015691e-01, -1.27857327e-01,\n",
       "         1.39500424e-01,  2.91627467e-01,  4.77601662e-02,\n",
       "         1.33202255e-01,  1.92287117e-01],\n",
       "       [ 3.74487460e-01,  1.10507071e-01,  2.62964845e-01,\n",
       "         2.58768909e-02,  2.07538724e-01, -1.25179797e-01,\n",
       "         1.33798331e-01,  4.49560024e-02],\n",
       "       [ 6.68266192e-02, -1.76428884e-01,  2.35624030e-01,\n",
       "         4.50888686e-02,  5.04844934e-02,  2.13504046e-01,\n",
       "        -1.96215242e-01, -1.81794748e-01],\n",
       "       [-1.82928704e-02, -2.09986076e-01,  1.02135755e-01,\n",
       "        -6.32430166e-02,  4.16542888e-01, -3.41975361e-01,\n",
       "        -6.95557296e-01, -2.41697639e-01],\n",
       "       [-2.50095665e-01, -2.27420852e-01,  1.10227972e-01,\n",
       "         3.38748068e-01, -4.56602406e-03,  7.38054216e-02,\n",
       "        -1.49128765e-01, -1.42330527e-01],\n",
       "       [-3.52369726e-01,  2.18871310e-01,  1.50220111e-01,\n",
       "         1.03064708e-01,  6.92540184e-02,  1.37672409e-01,\n",
       "         6.94437400e-02,  1.45308837e-01],\n",
       "       [ 4.55711007e-01, -7.29978681e-02,  3.84621918e-02,\n",
       "        -2.27835119e-01,  3.58298630e-01, -1.61497667e-01,\n",
       "        -6.03202917e-02, -3.67554396e-01],\n",
       "       [ 1.22698575e-01, -5.37858367e-01, -2.25211635e-01,\n",
       "        -1.73355922e-01,  4.11055163e-02,  9.84313935e-02,\n",
       "        -1.04340427e-01, -1.87994942e-01],\n",
       "       [-5.44352174e-01, -1.83086082e-01, -2.35916331e-01,\n",
       "        -1.63162470e-01, -1.30446509e-01,  6.62032068e-02,\n",
       "         6.45878986e-02,  3.19186509e-01],\n",
       "       [-6.76283464e-02,  8.46498683e-02,  9.71602276e-02,\n",
       "         6.84682429e-02,  1.74526587e-01,  1.28007144e-01,\n",
       "         3.48265171e-02, -1.29157290e-01],\n",
       "       [ 1.16115056e-01,  6.40022159e-02,  1.42682523e-01,\n",
       "         1.30665854e-01, -6.68167472e-02,  4.67787907e-02,\n",
       "         4.69525568e-02, -1.42695993e-01],\n",
       "       [ 1.31460443e-01,  2.03500748e-01, -1.64294884e-01,\n",
       "        -1.94444492e-01,  6.71536177e-02, -2.19569523e-02,\n",
       "        -2.21502781e-01,  2.92246431e-01],\n",
       "       [ 2.00300813e-01, -1.26005575e-01, -4.45447937e-02,\n",
       "        -3.08523238e-01, -2.20078379e-01, -4.90851283e-01,\n",
       "         1.69898033e-01, -4.23318923e-01],\n",
       "       [-1.10402822e-01, -6.67614937e-02, -1.50075153e-01,\n",
       "        -1.11676671e-01,  2.14199767e-01,  2.12360412e-01,\n",
       "         1.43497828e-02, -1.35851935e-01],\n",
       "       [-7.66856072e-04,  1.50515214e-01,  4.02508467e-01,\n",
       "         3.95423561e-01,  2.63995696e-02,  1.58822209e-01,\n",
       "         1.78654850e-01, -9.64595005e-02],\n",
       "       [ 7.82286450e-02, -5.19532382e-01, -6.35343045e-02,\n",
       "         3.67095665e-04,  2.72384733e-01, -3.29942375e-01,\n",
       "         3.90712559e-01,  2.50573069e-01],\n",
       "       [-1.30463347e-01, -2.66936094e-01,  2.04393461e-01,\n",
       "        -1.49719909e-01,  6.07971335e-04, -3.01290601e-01,\n",
       "         1.54750049e-01,  8.15226138e-02],\n",
       "       [ 2.46706039e-01,  5.12683243e-02,  9.63465273e-02,\n",
       "         3.78441326e-02,  1.79245800e-01,  4.30318527e-02,\n",
       "         4.71236795e-01,  2.48037010e-01],\n",
       "       [ 3.02503724e-02,  3.55348647e-01,  1.03316948e-01,\n",
       "        -4.39004824e-02,  1.00175589e-01, -2.11576223e-01,\n",
       "         1.72928557e-01,  2.06058934e-01],\n",
       "       [ 1.29952222e-01,  1.40329907e-02, -1.67033076e-01,\n",
       "        -1.92877620e-01, -2.95981050e-01, -8.85269716e-02,\n",
       "         1.52509987e-01,  2.47657940e-01],\n",
       "       [-3.08305733e-02, -1.54205963e-01,  1.43496767e-01,\n",
       "        -4.07825917e-01,  9.03031137e-03,  3.26608494e-02,\n",
       "        -3.81663325e-03, -1.21971115e-01],\n",
       "       [-6.16324991e-02,  1.59479082e-01,  1.79654524e-01,\n",
       "         1.20842174e-01,  2.85424680e-01, -1.36386782e-01,\n",
       "        -1.74782440e-01, -4.16719973e-01],\n",
       "       [ 3.33098054e-01,  9.56903920e-02,  7.30682090e-02,\n",
       "         2.22628042e-01,  8.39761272e-02,  3.72849464e-01,\n",
       "        -2.25690231e-01,  1.97073504e-01]], dtype=float32)>"
      ]
     },
     "execution_count": 50,
     "metadata": {},
     "output_type": "execute_result"
    }
   ],
   "source": [
    "glorot_weights = my_glorot_initializer((30, 8))\n",
    "glorot_weights"
   ]
  },
  {
   "cell_type": "code",
   "execution_count": 53,
   "id": "e04253b4",
   "metadata": {},
   "outputs": [],
   "source": [
    "def my_l1_regularizer(weights):\n",
    "    return tf.reduce_sum(tf.abs(0.01 * weights))"
   ]
  },
  {
   "cell_type": "code",
   "execution_count": 54,
   "id": "0ef58424",
   "metadata": {},
   "outputs": [
    {
     "data": {
      "text/plain": [
       "<tf.Tensor: shape=(), dtype=float32, numpy=0.41253716>"
      ]
     },
     "execution_count": 54,
     "metadata": {},
     "output_type": "execute_result"
    }
   ],
   "source": [
    "my_l1_regularizer(glorot_weights)"
   ]
  },
  {
   "cell_type": "code",
   "execution_count": 61,
   "id": "ffdfc319",
   "metadata": {},
   "outputs": [],
   "source": [
    "def my_l2_regularizer(weights):\n",
    "    return tf.reduce_sum(0.01 * tf.square(weights))"
   ]
  },
  {
   "cell_type": "code",
   "execution_count": 62,
   "id": "641df95d",
   "metadata": {},
   "outputs": [
    {
     "data": {
      "text/plain": [
       "<tf.Tensor: shape=(), dtype=float32, numpy=0.10716777>"
      ]
     },
     "execution_count": 62,
     "metadata": {},
     "output_type": "execute_result"
    }
   ],
   "source": [
    "my_l2_regularizer(glorot_weights)"
   ]
  },
  {
   "cell_type": "code",
   "execution_count": 63,
   "id": "690be8a8",
   "metadata": {},
   "outputs": [],
   "source": [
    "def my_relu(z):\n",
    "    return tf.where(z < 0., tf.zeros_like(z), z)"
   ]
  },
  {
   "cell_type": "code",
   "execution_count": 64,
   "id": "bcf9d28e",
   "metadata": {},
   "outputs": [
    {
     "data": {
      "text/plain": [
       "<tf.Tensor: shape=(), dtype=int32, numpy=0>"
      ]
     },
     "execution_count": 64,
     "metadata": {},
     "output_type": "execute_result"
    }
   ],
   "source": [
    "my_relu(-3)"
   ]
  },
  {
   "cell_type": "code",
   "execution_count": 65,
   "id": "1544e38f",
   "metadata": {},
   "outputs": [
    {
     "data": {
      "text/plain": [
       "<tf.Tensor: shape=(), dtype=int32, numpy=1>"
      ]
     },
     "execution_count": 65,
     "metadata": {},
     "output_type": "execute_result"
    }
   ],
   "source": [
    "my_relu(1)"
   ]
  },
  {
   "cell_type": "code",
   "execution_count": 66,
   "id": "3ef7d3f7",
   "metadata": {},
   "outputs": [],
   "source": [
    "layer = keras.layers.Dense(30, activation=my_relu, \n",
    "                           kernel_initializer=my_glorot_initializer,\n",
    "                           kernel_regularizer=my_l1_regularizer)"
   ]
  },
  {
   "cell_type": "markdown",
   "id": "be23b430",
   "metadata": {},
   "source": [
    "In case we have hyperparameters, we need to define a class"
   ]
  },
  {
   "cell_type": "code",
   "execution_count": 67,
   "id": "c73a786e",
   "metadata": {},
   "outputs": [],
   "source": [
    "class MyL1Regularizer(keras.regularizers.Regularizer):\n",
    "    def __init__(self, factor):\n",
    "        self.factor = factor\n",
    "    def __call__(self, weights):\n",
    "        return tf.reduce_sum(tf.abs(self.factor * weights))\n",
    "    def get_config(self):\n",
    "        return {\"factor\": self.factor}"
   ]
  },
  {
   "cell_type": "markdown",
   "id": "c4db1eb9",
   "metadata": {},
   "source": [
    "* For a custom metric we need to inherit from `keras.metrics.Metric`.\n",
    "\n",
    "* For a custom loss function we need to inherit from `keras.losses.Loss`."
   ]
  },
  {
   "cell_type": "markdown",
   "id": "827d31e1",
   "metadata": {},
   "source": [
    "## Custom Layers"
   ]
  },
  {
   "cell_type": "code",
   "execution_count": null,
   "id": "ee7a5886",
   "metadata": {},
   "outputs": [],
   "source": [
    "class MyDense(keras.layers.Layer):\n",
    "    def __init__(self, units, activation=None, **kwargs):\n",
    "        super().__init__(**kwargs)\n",
    "        self.units = units\n",
    "        self.activation = keras.activations.get(activation)\n",
    "\n",
    "    def build(self, batch_input_shape):\n",
    "        self.kernel = self.add_weight(\n",
    "            name=\"kernel\", shape=[batch_input_shape[-1], self.units],\n",
    "            initializer=\"glorot_normal\")\n",
    "        self.bias = self.add_weight(\n",
    "            name=\"bias\", shape=[self.units], initializer=\"zeros\")\n",
    "        super().build(batch_input_shape) # must be at the end\n",
    "\n",
    "    def call(self, X):\n",
    "        return self.activation(X @ self.kernel + self.bias)\n",
    "\n",
    "    def compute_output_shape(self, batch_input_shape):\n",
    "        return tf.TensorShape(batch_input_shape.as_list()[:-1] + [self.units])\n",
    "\n",
    "    def get_config(self):\n",
    "        base_config = super().get_config()\n",
    "        return {**base_config, \"units\": self.units,\n",
    "                \"activation\": keras.activations.serialize(self.activation)}"
   ]
  },
  {
   "cell_type": "code",
   "execution_count": null,
   "id": "c8b87c4c",
   "metadata": {},
   "outputs": [],
   "source": []
  }
 ],
 "metadata": {
  "kernelspec": {
   "display_name": "Python 3 (ipykernel)",
   "language": "python",
   "name": "python3"
  },
  "language_info": {
   "codemirror_mode": {
    "name": "ipython",
    "version": 3
   },
   "file_extension": ".py",
   "mimetype": "text/x-python",
   "name": "python",
   "nbconvert_exporter": "python",
   "pygments_lexer": "ipython3",
   "version": "3.8.15"
  }
 },
 "nbformat": 4,
 "nbformat_minor": 5
}
